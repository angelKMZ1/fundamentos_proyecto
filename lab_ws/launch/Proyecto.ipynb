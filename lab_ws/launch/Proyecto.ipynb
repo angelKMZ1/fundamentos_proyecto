{
 "cells": [
  {
   "cell_type": "code",
   "execution_count": 1,
   "metadata": {},
   "outputs": [],
   "source": [
    "import numpy as np\n",
    "import sympy as sp\n",
    "import matplotlib.pyplot as plt"
   ]
  },
  {
   "cell_type": "markdown",
   "metadata": {},
   "source": [
    "# DH"
   ]
  },
  {
   "cell_type": "code",
   "execution_count": 50,
   "metadata": {},
   "outputs": [],
   "source": [
    "def sTdh(d, th, a, alpha):\n",
    "    cth = sp.cos(th); sth = sp.sin(th)\n",
    "    ca = sp.cos(alpha); sa = sp.sin(alpha)\n",
    "    Tdh = sp.Matrix([[cth, -ca*sth,  sa*sth, a*cth],\n",
    "                     [sth,  ca*cth, -sa*cth, a*sth],\n",
    "                     [0,        sa,     ca,      d],\n",
    "                     [0,         0,      0,      1]])\n",
    "    return Tdh        \n",
    "def Tdh(d, th, a, alpha):\n",
    "    cth = np.cos(th); sth = np.sin(th)\n",
    "    ca = np.cos(alpha); sa = np.sin(alpha)\n",
    "    Tdh = np.array([[cth, -ca*sth,  sa*sth, a*cth],\n",
    "                     [sth,  ca*cth, -sa*cth, a*sth],\n",
    "                     [0,        sa,     ca,      d],\n",
    "                     [0,         0,      0,      1]])\n",
    "    return Tdh\n",
    "\n",
    "L0 = 0.0\n",
    "L1 = 0.520\n",
    "L2 = 0.780\n",
    "L3 = 0.150\n",
    "L4 = 0.86\n",
    "L5 = 0\n",
    "L6 = 0.153\n",
    "\n",
    "q1,q2,q3,q4,q5,q6,q7 = sp.symbols(\"q1 q2 q3 q4 q5 q6 q7\")\n",
    "#L1,L2,L3,L4,L5,L6,L7 = sp.symbols(\"L1 L2 L3 L4 L5 L6 L7\")\n",
    "L0 = 0.0\n",
    "L1 = 0.520\n",
    "L2 = 0.780\n",
    "L3 = 0.150\n",
    "L4 = 0.86\n",
    "L5 = 0\n",
    "L6 = 0.153\n",
    "pi = sp.pi; \n",
    "#pi=np.pi\n",
    "#q = [2,3,4,5,6,7,8]\n",
    "q = [q1,q2,q3,q4,q5,q6,q7]\n",
    "T0 = sTdh(L0+q[0], 0,     0, 0) #\n",
    "T1 = sTdh(L1, q[1],     0.160, pi/2) #\n",
    "T2 = sTdh(0 , -q[2]+pi/2,      L2,0) #\n",
    "T3 = sTdh(0 , q[3]+pi     ,-L3  ,-pi/2) #\n",
    "T4 = sTdh(L4  , q[4]     ,0    ,pi/2)\n",
    "T5 = sTdh(0  , q[5]+pi   ,0    ,-pi/2)\n",
    "T6 = sTdh(-L6  , q[6] -pi/2    ,0   ,-pi/2)\n",
    "# Efector final con respecto a la base\n",
    "T = T0 @ T1 @ T2 @ T3 @ T4 @ T5 @ T6\n",
    "\n"
   ]
  },
  {
   "cell_type": "code",
   "execution_count": 57,
   "metadata": {},
   "outputs": [],
   "source": [
    "T = sp.simplify(T)\n",
    "r = T[0:3,3]\n",
    "\n"
   ]
  },
  {
   "cell_type": "code",
   "execution_count": 60,
   "metadata": {},
   "outputs": [
    {
     "data": {
      "text/latex": [
       "$\\displaystyle 1.0 q_{1} + 0.153 \\sin{\\left(q_{6} \\right)} \\cos{\\left(q_{5} \\right)} \\cos{\\left(q_{3} - q_{4} \\right)} - 0.153 \\sin{\\left(q_{3} - q_{4} \\right)} \\cos{\\left(q_{6} \\right)} - 0.86 \\sin{\\left(q_{3} - q_{4} \\right)} + 0.78 \\cos{\\left(q_{3} \\right)} + 0.15 \\cos{\\left(q_{3} - q_{4} \\right)} + 0.52$"
      ],
      "text/plain": [
       "1.0*q1 + 0.153*sin(q6)*cos(q5)*cos(q3 - q4) - 0.153*sin(q3 - q4)*cos(q6) - 0.86*sin(q3 - q4) + 0.78*cos(q3) + 0.15*cos(q3 - q4) + 0.52"
      ]
     },
     "execution_count": 60,
     "metadata": {},
     "output_type": "execute_result"
    }
   ],
   "source": [
    "r[2]"
   ]
  },
  {
   "cell_type": "code",
   "execution_count": 79,
   "metadata": {},
   "outputs": [
    {
     "data": {
      "text/latex": [
       "$\\displaystyle \\left[\\begin{matrix}0.153 \\sin{\\left(q_{2} \\right)} \\sin{\\left(q_{5} \\right)} \\sin{\\left(q_{6} \\right)} + 0.78 \\sin{\\left(q_{3} \\right)} \\cos{\\left(q_{2} \\right)} + 0.153 \\sin{\\left(q_{6} \\right)} \\sin{\\left(q_{3} - q_{4} \\right)} \\cos{\\left(q_{2} \\right)} \\cos{\\left(q_{5} \\right)} + 0.15 \\sin{\\left(q_{3} - q_{4} \\right)} \\cos{\\left(q_{2} \\right)} + 0.153 \\cos{\\left(q_{2} \\right)} \\cos{\\left(q_{6} \\right)} \\cos{\\left(q_{3} - q_{4} \\right)} + 0.86 \\cos{\\left(q_{2} \\right)} \\cos{\\left(q_{3} - q_{4} \\right)} + 0.16 \\cos{\\left(q_{2} \\right)}\\\\0.78 \\sin{\\left(q_{2} \\right)} \\sin{\\left(q_{3} \\right)} + 0.153 \\sin{\\left(q_{2} \\right)} \\sin{\\left(q_{6} \\right)} \\sin{\\left(q_{3} - q_{4} \\right)} \\cos{\\left(q_{5} \\right)} + 0.15 \\sin{\\left(q_{2} \\right)} \\sin{\\left(q_{3} - q_{4} \\right)} + 0.153 \\sin{\\left(q_{2} \\right)} \\cos{\\left(q_{6} \\right)} \\cos{\\left(q_{3} - q_{4} \\right)} + 0.86 \\sin{\\left(q_{2} \\right)} \\cos{\\left(q_{3} - q_{4} \\right)} + 0.16 \\sin{\\left(q_{2} \\right)} - 0.153 \\sin{\\left(q_{5} \\right)} \\sin{\\left(q_{6} \\right)} \\cos{\\left(q_{2} \\right)}\\\\1.0 q_{1} + 0.153 \\sin{\\left(q_{6} \\right)} \\cos{\\left(q_{5} \\right)} \\cos{\\left(q_{3} - q_{4} \\right)} - 0.153 \\sin{\\left(q_{3} - q_{4} \\right)} \\cos{\\left(q_{6} \\right)} - 0.86 \\sin{\\left(q_{3} - q_{4} \\right)} + 0.78 \\cos{\\left(q_{3} \\right)} + 0.15 \\cos{\\left(q_{3} - q_{4} \\right)} + 0.52\\end{matrix}\\right]$"
      ],
      "text/plain": [
       "Matrix([\n",
       "[0.153*sin(q2)*sin(q5)*sin(q6) + 0.78*sin(q3)*cos(q2) + 0.153*sin(q6)*sin(q3 - q4)*cos(q2)*cos(q5) + 0.15*sin(q3 - q4)*cos(q2) + 0.153*cos(q2)*cos(q6)*cos(q3 - q4) + 0.86*cos(q2)*cos(q3 - q4) + 0.16*cos(q2)],\n",
       "[0.78*sin(q2)*sin(q3) + 0.153*sin(q2)*sin(q6)*sin(q3 - q4)*cos(q5) + 0.15*sin(q2)*sin(q3 - q4) + 0.153*sin(q2)*cos(q6)*cos(q3 - q4) + 0.86*sin(q2)*cos(q3 - q4) + 0.16*sin(q2) - 0.153*sin(q5)*sin(q6)*cos(q2)],\n",
       "[                                                                       1.0*q1 + 0.153*sin(q6)*cos(q5)*cos(q3 - q4) - 0.153*sin(q3 - q4)*cos(q6) - 0.86*sin(q3 - q4) + 0.78*cos(q3) + 0.15*cos(q3 - q4) + 0.52]])"
      ]
     },
     "metadata": {},
     "output_type": "display_data"
    },
    {
     "data": {
      "text/latex": [
       "$\\displaystyle 0.153 \\sin{\\left(q_{2} \\right)} \\sin{\\left(q_{6} \\right)} \\cos{\\left(q_{5} \\right)} - 0.153 \\sin{\\left(q_{5} \\right)} \\sin{\\left(q_{6} \\right)} \\sin{\\left(q_{3} - q_{4} \\right)} \\cos{\\left(q_{2} \\right)}$"
      ],
      "text/plain": [
       "0.153*sin(q2)*sin(q6)*cos(q5) - 0.153*sin(q5)*sin(q6)*sin(q3 - q4)*cos(q2)"
      ]
     },
     "execution_count": 79,
     "metadata": {},
     "output_type": "execute_result"
    }
   ],
   "source": [
    "display(r)\n",
    "q = [q1,q2,q3,q4,q5,q6,q7]\n",
    "i = 0;j=4;\n",
    "sp.diff(r[i],q[j])\n"
   ]
  },
  {
   "cell_type": "code",
   "execution_count": 99,
   "metadata": {},
   "outputs": [
    {
     "name": "stdout",
     "output_type": "stream",
     "text": [
      "0\n",
      "1\n",
      "2\n"
     ]
    },
    {
     "data": {
      "text/latex": [
       "$\\displaystyle \\left[\\begin{matrix}0 & - 0.78 \\sin{\\left(q_{2} \\right)} \\sin{\\left(q_{3} \\right)} - 0.153 \\sin{\\left(q_{2} \\right)} \\sin{\\left(q_{6} \\right)} \\sin{\\left(q_{3} - q_{4} \\right)} \\cos{\\left(q_{5} \\right)} - 0.15 \\sin{\\left(q_{2} \\right)} \\sin{\\left(q_{3} - q_{4} \\right)} - 0.153 \\sin{\\left(q_{2} \\right)} \\cos{\\left(q_{6} \\right)} \\cos{\\left(q_{3} - q_{4} \\right)} - 0.86 \\sin{\\left(q_{2} \\right)} \\cos{\\left(q_{3} - q_{4} \\right)} - 0.16 \\sin{\\left(q_{2} \\right)} + 0.153 \\sin{\\left(q_{5} \\right)} \\sin{\\left(q_{6} \\right)} \\cos{\\left(q_{2} \\right)} & 0.153 \\sin{\\left(q_{6} \\right)} \\cos{\\left(q_{2} \\right)} \\cos{\\left(q_{5} \\right)} \\cos{\\left(q_{3} - q_{4} \\right)} - 0.153 \\sin{\\left(q_{3} - q_{4} \\right)} \\cos{\\left(q_{2} \\right)} \\cos{\\left(q_{6} \\right)} - 0.86 \\sin{\\left(q_{3} - q_{4} \\right)} \\cos{\\left(q_{2} \\right)} + 0.78 \\cos{\\left(q_{2} \\right)} \\cos{\\left(q_{3} \\right)} + 0.15 \\cos{\\left(q_{2} \\right)} \\cos{\\left(q_{3} - q_{4} \\right)} & - 0.153 \\sin{\\left(q_{6} \\right)} \\cos{\\left(q_{2} \\right)} \\cos{\\left(q_{5} \\right)} \\cos{\\left(q_{3} - q_{4} \\right)} + 0.153 \\sin{\\left(q_{3} - q_{4} \\right)} \\cos{\\left(q_{2} \\right)} \\cos{\\left(q_{6} \\right)} + 0.86 \\sin{\\left(q_{3} - q_{4} \\right)} \\cos{\\left(q_{2} \\right)} - 0.15 \\cos{\\left(q_{2} \\right)} \\cos{\\left(q_{3} - q_{4} \\right)} & 0.153 \\sin{\\left(q_{2} \\right)} \\sin{\\left(q_{6} \\right)} \\cos{\\left(q_{5} \\right)} - 0.153 \\sin{\\left(q_{5} \\right)} \\sin{\\left(q_{6} \\right)} \\sin{\\left(q_{3} - q_{4} \\right)} \\cos{\\left(q_{2} \\right)} & 0.153 \\sin{\\left(q_{2} \\right)} \\sin{\\left(q_{5} \\right)} \\cos{\\left(q_{6} \\right)} - 0.153 \\sin{\\left(q_{6} \\right)} \\cos{\\left(q_{2} \\right)} \\cos{\\left(q_{3} - q_{4} \\right)} + 0.153 \\sin{\\left(q_{3} - q_{4} \\right)} \\cos{\\left(q_{2} \\right)} \\cos{\\left(q_{5} \\right)} \\cos{\\left(q_{6} \\right)} & 0\\\\0 & 0.153 \\sin{\\left(q_{2} \\right)} \\sin{\\left(q_{5} \\right)} \\sin{\\left(q_{6} \\right)} + 0.78 \\sin{\\left(q_{3} \\right)} \\cos{\\left(q_{2} \\right)} + 0.153 \\sin{\\left(q_{6} \\right)} \\sin{\\left(q_{3} - q_{4} \\right)} \\cos{\\left(q_{2} \\right)} \\cos{\\left(q_{5} \\right)} + 0.15 \\sin{\\left(q_{3} - q_{4} \\right)} \\cos{\\left(q_{2} \\right)} + 0.153 \\cos{\\left(q_{2} \\right)} \\cos{\\left(q_{6} \\right)} \\cos{\\left(q_{3} - q_{4} \\right)} + 0.86 \\cos{\\left(q_{2} \\right)} \\cos{\\left(q_{3} - q_{4} \\right)} + 0.16 \\cos{\\left(q_{2} \\right)} & 0.153 \\sin{\\left(q_{2} \\right)} \\sin{\\left(q_{6} \\right)} \\cos{\\left(q_{5} \\right)} \\cos{\\left(q_{3} - q_{4} \\right)} - 0.153 \\sin{\\left(q_{2} \\right)} \\sin{\\left(q_{3} - q_{4} \\right)} \\cos{\\left(q_{6} \\right)} - 0.86 \\sin{\\left(q_{2} \\right)} \\sin{\\left(q_{3} - q_{4} \\right)} + 0.78 \\sin{\\left(q_{2} \\right)} \\cos{\\left(q_{3} \\right)} + 0.15 \\sin{\\left(q_{2} \\right)} \\cos{\\left(q_{3} - q_{4} \\right)} & - 0.153 \\sin{\\left(q_{2} \\right)} \\sin{\\left(q_{6} \\right)} \\cos{\\left(q_{5} \\right)} \\cos{\\left(q_{3} - q_{4} \\right)} + 0.153 \\sin{\\left(q_{2} \\right)} \\sin{\\left(q_{3} - q_{4} \\right)} \\cos{\\left(q_{6} \\right)} + 0.86 \\sin{\\left(q_{2} \\right)} \\sin{\\left(q_{3} - q_{4} \\right)} - 0.15 \\sin{\\left(q_{2} \\right)} \\cos{\\left(q_{3} - q_{4} \\right)} & - 0.153 \\sin{\\left(q_{2} \\right)} \\sin{\\left(q_{5} \\right)} \\sin{\\left(q_{6} \\right)} \\sin{\\left(q_{3} - q_{4} \\right)} - 0.153 \\sin{\\left(q_{6} \\right)} \\cos{\\left(q_{2} \\right)} \\cos{\\left(q_{5} \\right)} & - 0.153 \\sin{\\left(q_{2} \\right)} \\sin{\\left(q_{6} \\right)} \\cos{\\left(q_{3} - q_{4} \\right)} + 0.153 \\sin{\\left(q_{2} \\right)} \\sin{\\left(q_{3} - q_{4} \\right)} \\cos{\\left(q_{5} \\right)} \\cos{\\left(q_{6} \\right)} - 0.153 \\sin{\\left(q_{5} \\right)} \\cos{\\left(q_{2} \\right)} \\cos{\\left(q_{6} \\right)} & 0\\\\1.0 & 0 & - 0.78 \\sin{\\left(q_{3} \\right)} - 0.153 \\sin{\\left(q_{6} \\right)} \\sin{\\left(q_{3} - q_{4} \\right)} \\cos{\\left(q_{5} \\right)} - 0.15 \\sin{\\left(q_{3} - q_{4} \\right)} - 0.153 \\cos{\\left(q_{6} \\right)} \\cos{\\left(q_{3} - q_{4} \\right)} - 0.86 \\cos{\\left(q_{3} - q_{4} \\right)} & 0.153 \\sin{\\left(q_{6} \\right)} \\sin{\\left(q_{3} - q_{4} \\right)} \\cos{\\left(q_{5} \\right)} + 0.15 \\sin{\\left(q_{3} - q_{4} \\right)} + 0.153 \\cos{\\left(q_{6} \\right)} \\cos{\\left(q_{3} - q_{4} \\right)} + 0.86 \\cos{\\left(q_{3} - q_{4} \\right)} & - 0.153 \\sin{\\left(q_{5} \\right)} \\sin{\\left(q_{6} \\right)} \\cos{\\left(q_{3} - q_{4} \\right)} & 0.153 \\sin{\\left(q_{6} \\right)} \\sin{\\left(q_{3} - q_{4} \\right)} + 0.153 \\cos{\\left(q_{5} \\right)} \\cos{\\left(q_{6} \\right)} \\cos{\\left(q_{3} - q_{4} \\right)} & 0\\end{matrix}\\right]$"
      ],
      "text/plain": [
       "Matrix([\n",
       "[  0, -0.78*sin(q2)*sin(q3) - 0.153*sin(q2)*sin(q6)*sin(q3 - q4)*cos(q5) - 0.15*sin(q2)*sin(q3 - q4) - 0.153*sin(q2)*cos(q6)*cos(q3 - q4) - 0.86*sin(q2)*cos(q3 - q4) - 0.16*sin(q2) + 0.153*sin(q5)*sin(q6)*cos(q2), 0.153*sin(q6)*cos(q2)*cos(q5)*cos(q3 - q4) - 0.153*sin(q3 - q4)*cos(q2)*cos(q6) - 0.86*sin(q3 - q4)*cos(q2) + 0.78*cos(q2)*cos(q3) + 0.15*cos(q2)*cos(q3 - q4), -0.153*sin(q6)*cos(q2)*cos(q5)*cos(q3 - q4) + 0.153*sin(q3 - q4)*cos(q2)*cos(q6) + 0.86*sin(q3 - q4)*cos(q2) - 0.15*cos(q2)*cos(q3 - q4),  0.153*sin(q2)*sin(q6)*cos(q5) - 0.153*sin(q5)*sin(q6)*sin(q3 - q4)*cos(q2),  0.153*sin(q2)*sin(q5)*cos(q6) - 0.153*sin(q6)*cos(q2)*cos(q3 - q4) + 0.153*sin(q3 - q4)*cos(q2)*cos(q5)*cos(q6), 0],\n",
       "[  0,  0.153*sin(q2)*sin(q5)*sin(q6) + 0.78*sin(q3)*cos(q2) + 0.153*sin(q6)*sin(q3 - q4)*cos(q2)*cos(q5) + 0.15*sin(q3 - q4)*cos(q2) + 0.153*cos(q2)*cos(q6)*cos(q3 - q4) + 0.86*cos(q2)*cos(q3 - q4) + 0.16*cos(q2), 0.153*sin(q2)*sin(q6)*cos(q5)*cos(q3 - q4) - 0.153*sin(q2)*sin(q3 - q4)*cos(q6) - 0.86*sin(q2)*sin(q3 - q4) + 0.78*sin(q2)*cos(q3) + 0.15*sin(q2)*cos(q3 - q4), -0.153*sin(q2)*sin(q6)*cos(q5)*cos(q3 - q4) + 0.153*sin(q2)*sin(q3 - q4)*cos(q6) + 0.86*sin(q2)*sin(q3 - q4) - 0.15*sin(q2)*cos(q3 - q4), -0.153*sin(q2)*sin(q5)*sin(q6)*sin(q3 - q4) - 0.153*sin(q6)*cos(q2)*cos(q5), -0.153*sin(q2)*sin(q6)*cos(q3 - q4) + 0.153*sin(q2)*sin(q3 - q4)*cos(q5)*cos(q6) - 0.153*sin(q5)*cos(q2)*cos(q6), 0],\n",
       "[1.0,                                                                                                                                                                                                              0,                                        -0.78*sin(q3) - 0.153*sin(q6)*sin(q3 - q4)*cos(q5) - 0.15*sin(q3 - q4) - 0.153*cos(q6)*cos(q3 - q4) - 0.86*cos(q3 - q4),                                  0.153*sin(q6)*sin(q3 - q4)*cos(q5) + 0.15*sin(q3 - q4) + 0.153*cos(q6)*cos(q3 - q4) + 0.86*cos(q3 - q4),                                         -0.153*sin(q5)*sin(q6)*cos(q3 - q4),                                                  0.153*sin(q6)*sin(q3 - q4) + 0.153*cos(q5)*cos(q6)*cos(q3 - q4), 0]])"
      ]
     },
     "execution_count": 99,
     "metadata": {},
     "output_type": "execute_result"
    }
   ],
   "source": [
    "#q = [2,3,4,5,6,7,8]\n",
    "J1 = [];J2=[];J3 = [];\n",
    "J = [[],[],[]]\n",
    "for i in range(3):\n",
    "    print(i)\n",
    "    for j in range(7):\n",
    "        J[i].append(sp.diff(r[i],q[j]))\n",
    "\n",
    "J = sp.Matrix(J)\n",
    "J\n"
   ]
  },
  {
   "cell_type": "code",
   "execution_count": 133,
   "metadata": {},
   "outputs": [
    {
     "data": {
      "text/latex": [
       "$\\displaystyle - \\left(\\left(0.153 \\sin{\\left(q_{6} \\right)} \\sin{\\left(q_{3} - q_{4} \\right)} + 0.153 \\cos{\\left(q_{5} \\right)} \\cos{\\left(q_{6} \\right)} \\cos{\\left(q_{3} - q_{4} \\right)}\\right) \\left(- 0.153 \\sin{\\left(q_{2} \\right)} \\sin{\\left(q_{6} \\right)} \\cos{\\left(q_{3} - q_{4} \\right)} + 0.153 \\sin{\\left(q_{2} \\right)} \\sin{\\left(q_{3} - q_{4} \\right)} \\cos{\\left(q_{5} \\right)} \\cos{\\left(q_{6} \\right)} - 0.153 \\sin{\\left(q_{5} \\right)} \\cos{\\left(q_{2} \\right)} \\cos{\\left(q_{6} \\right)}\\right) + 0.023409 \\left(\\sin{\\left(q_{2} \\right)} \\sin{\\left(q_{5} \\right)} \\sin{\\left(q_{3} - q_{4} \\right)} + \\cos{\\left(q_{2} \\right)} \\cos{\\left(q_{5} \\right)}\\right) \\sin{\\left(q_{5} \\right)} \\sin^{2}{\\left(q_{6} \\right)} \\cos{\\left(q_{3} - q_{4} \\right)} + \\left(0.153 \\sin{\\left(q_{6} \\right)} \\sin{\\left(q_{3} - q_{4} \\right)} \\cos{\\left(q_{5} \\right)} + 0.15 \\sin{\\left(q_{3} - q_{4} \\right)} + 0.153 \\cos{\\left(q_{6} \\right)} \\cos{\\left(q_{3} - q_{4} \\right)} + 0.86 \\cos{\\left(q_{3} - q_{4} \\right)}\\right) \\left(- 0.153 \\sin{\\left(q_{6} \\right)} \\cos{\\left(q_{5} \\right)} \\cos{\\left(q_{3} - q_{4} \\right)} + 0.153 \\sin{\\left(q_{3} - q_{4} \\right)} \\cos{\\left(q_{6} \\right)} + 0.86 \\sin{\\left(q_{3} - q_{4} \\right)} - 0.15 \\cos{\\left(q_{3} - q_{4} \\right)}\\right) \\sin{\\left(q_{2} \\right)} + \\left(0.153 \\sin{\\left(q_{6} \\right)} \\cos{\\left(q_{5} \\right)} \\cos{\\left(q_{3} - q_{4} \\right)} - 0.153 \\sin{\\left(q_{3} - q_{4} \\right)} \\cos{\\left(q_{6} \\right)} - 0.86 \\sin{\\left(q_{3} - q_{4} \\right)} + 0.78 \\cos{\\left(q_{3} \\right)} + 0.15 \\cos{\\left(q_{3} - q_{4} \\right)}\\right) \\left(- 0.78 \\sin{\\left(q_{3} \\right)} - 0.153 \\sin{\\left(q_{6} \\right)} \\sin{\\left(q_{3} - q_{4} \\right)} \\cos{\\left(q_{5} \\right)} - 0.15 \\sin{\\left(q_{3} - q_{4} \\right)} - 0.153 \\cos{\\left(q_{6} \\right)} \\cos{\\left(q_{3} - q_{4} \\right)} - 0.86 \\cos{\\left(q_{3} - q_{4} \\right)}\\right) \\sin{\\left(q_{2} \\right)}\\right)^{2} \\cdot \\left(0.023409 \\left(\\sin{\\left(q_{2} \\right)} \\cos{\\left(q_{5} \\right)} - \\sin{\\left(q_{5} \\right)} \\sin{\\left(q_{3} - q_{4} \\right)} \\cos{\\left(q_{2} \\right)}\\right)^{2} \\sin^{2}{\\left(q_{6} \\right)} + 0.023409 \\left(\\sin{\\left(q_{2} \\right)} \\sin{\\left(q_{5} \\right)} \\cos{\\left(q_{6} \\right)} - \\sin{\\left(q_{6} \\right)} \\cos{\\left(q_{2} \\right)} \\cos{\\left(q_{3} - q_{4} \\right)} + \\sin{\\left(q_{3} - q_{4} \\right)} \\cos{\\left(q_{2} \\right)} \\cos{\\left(q_{5} \\right)} \\cos{\\left(q_{6} \\right)}\\right)^{2} + 0.7396 \\left(- 0.177906976744186 \\sin{\\left(q_{6} \\right)} \\cos{\\left(q_{5} \\right)} \\cos{\\left(q_{3} - q_{4} \\right)} + 0.177906976744186 \\sin{\\left(q_{3} - q_{4} \\right)} \\cos{\\left(q_{6} \\right)} + \\sin{\\left(q_{3} - q_{4} \\right)} - 0.174418604651163 \\cos{\\left(q_{3} - q_{4} \\right)}\\right)^{2} \\cos^{2}{\\left(q_{2} \\right)} + 0.7396 \\left(0.177906976744186 \\sin{\\left(q_{6} \\right)} \\cos{\\left(q_{5} \\right)} \\cos{\\left(q_{3} - q_{4} \\right)} - 0.177906976744186 \\sin{\\left(q_{3} - q_{4} \\right)} \\cos{\\left(q_{6} \\right)} - \\sin{\\left(q_{3} - q_{4} \\right)} + 0.906976744186046 \\cos{\\left(q_{3} \\right)} + 0.174418604651163 \\cos{\\left(q_{3} - q_{4} \\right)}\\right)^{2} \\cos^{2}{\\left(q_{2} \\right)} + 0.7396 \\left(- 0.906976744186046 \\sin{\\left(q_{2} \\right)} \\sin{\\left(q_{3} \\right)} - 0.177906976744186 \\sin{\\left(q_{2} \\right)} \\sin{\\left(q_{6} \\right)} \\sin{\\left(q_{3} - q_{4} \\right)} \\cos{\\left(q_{5} \\right)} - 0.174418604651163 \\sin{\\left(q_{2} \\right)} \\sin{\\left(q_{3} - q_{4} \\right)} - 0.177906976744186 \\sin{\\left(q_{2} \\right)} \\cos{\\left(q_{6} \\right)} \\cos{\\left(q_{3} - q_{4} \\right)} - \\sin{\\left(q_{2} \\right)} \\cos{\\left(q_{3} - q_{4} \\right)} - 0.186046511627907 \\sin{\\left(q_{2} \\right)} + 0.177906976744186 \\sin{\\left(q_{5} \\right)} \\sin{\\left(q_{6} \\right)} \\cos{\\left(q_{2} \\right)}\\right)^{2}\\right) + \\left(\\left(0.153 \\sin{\\left(q_{6} \\right)} \\sin{\\left(q_{3} - q_{4} \\right)} + 0.153 \\cos{\\left(q_{5} \\right)} \\cos{\\left(q_{6} \\right)} \\cos{\\left(q_{3} - q_{4} \\right)}\\right) \\left(- 0.153 \\sin{\\left(q_{2} \\right)} \\sin{\\left(q_{6} \\right)} \\cos{\\left(q_{3} - q_{4} \\right)} + 0.153 \\sin{\\left(q_{2} \\right)} \\sin{\\left(q_{3} - q_{4} \\right)} \\cos{\\left(q_{5} \\right)} \\cos{\\left(q_{6} \\right)} - 0.153 \\sin{\\left(q_{5} \\right)} \\cos{\\left(q_{2} \\right)} \\cos{\\left(q_{6} \\right)}\\right) + 0.023409 \\left(\\sin{\\left(q_{2} \\right)} \\sin{\\left(q_{5} \\right)} \\sin{\\left(q_{3} - q_{4} \\right)} + \\cos{\\left(q_{2} \\right)} \\cos{\\left(q_{5} \\right)}\\right) \\sin{\\left(q_{5} \\right)} \\sin^{2}{\\left(q_{6} \\right)} \\cos{\\left(q_{3} - q_{4} \\right)} + \\left(0.153 \\sin{\\left(q_{6} \\right)} \\sin{\\left(q_{3} - q_{4} \\right)} \\cos{\\left(q_{5} \\right)} + 0.15 \\sin{\\left(q_{3} - q_{4} \\right)} + 0.153 \\cos{\\left(q_{6} \\right)} \\cos{\\left(q_{3} - q_{4} \\right)} + 0.86 \\cos{\\left(q_{3} - q_{4} \\right)}\\right) \\left(- 0.153 \\sin{\\left(q_{6} \\right)} \\cos{\\left(q_{5} \\right)} \\cos{\\left(q_{3} - q_{4} \\right)} + 0.153 \\sin{\\left(q_{3} - q_{4} \\right)} \\cos{\\left(q_{6} \\right)} + 0.86 \\sin{\\left(q_{3} - q_{4} \\right)} - 0.15 \\cos{\\left(q_{3} - q_{4} \\right)}\\right) \\sin{\\left(q_{2} \\right)} + \\left(0.153 \\sin{\\left(q_{6} \\right)} \\cos{\\left(q_{5} \\right)} \\cos{\\left(q_{3} - q_{4} \\right)} - 0.153 \\sin{\\left(q_{3} - q_{4} \\right)} \\cos{\\left(q_{6} \\right)} - 0.86 \\sin{\\left(q_{3} - q_{4} \\right)} + 0.78 \\cos{\\left(q_{3} \\right)} + 0.15 \\cos{\\left(q_{3} - q_{4} \\right)}\\right) \\left(- 0.78 \\sin{\\left(q_{3} \\right)} - 0.153 \\sin{\\left(q_{6} \\right)} \\sin{\\left(q_{3} - q_{4} \\right)} \\cos{\\left(q_{5} \\right)} - 0.15 \\sin{\\left(q_{3} - q_{4} \\right)} - 0.153 \\cos{\\left(q_{6} \\right)} \\cos{\\left(q_{3} - q_{4} \\right)} - 0.86 \\cos{\\left(q_{3} - q_{4} \\right)}\\right) \\sin{\\left(q_{2} \\right)}\\right) \\left(- 0.023409 \\left(\\sin{\\left(q_{2} \\right)} \\cos{\\left(q_{5} \\right)} - \\sin{\\left(q_{5} \\right)} \\sin{\\left(q_{3} - q_{4} \\right)} \\cos{\\left(q_{2} \\right)}\\right) \\sin{\\left(q_{5} \\right)} \\sin^{2}{\\left(q_{6} \\right)} \\cos{\\left(q_{3} - q_{4} \\right)} + \\left(0.153 \\sin{\\left(q_{6} \\right)} \\sin{\\left(q_{3} - q_{4} \\right)} + 0.153 \\cos{\\left(q_{5} \\right)} \\cos{\\left(q_{6} \\right)} \\cos{\\left(q_{3} - q_{4} \\right)}\\right) \\left(0.153 \\sin{\\left(q_{2} \\right)} \\sin{\\left(q_{5} \\right)} \\cos{\\left(q_{6} \\right)} - 0.153 \\sin{\\left(q_{6} \\right)} \\cos{\\left(q_{2} \\right)} \\cos{\\left(q_{3} - q_{4} \\right)} + 0.153 \\sin{\\left(q_{3} - q_{4} \\right)} \\cos{\\left(q_{2} \\right)} \\cos{\\left(q_{5} \\right)} \\cos{\\left(q_{6} \\right)}\\right) + \\left(0.153 \\sin{\\left(q_{6} \\right)} \\sin{\\left(q_{3} - q_{4} \\right)} \\cos{\\left(q_{5} \\right)} + 0.15 \\sin{\\left(q_{3} - q_{4} \\right)} + 0.153 \\cos{\\left(q_{6} \\right)} \\cos{\\left(q_{3} - q_{4} \\right)} + 0.86 \\cos{\\left(q_{3} - q_{4} \\right)}\\right) \\left(- 0.153 \\sin{\\left(q_{6} \\right)} \\cos{\\left(q_{5} \\right)} \\cos{\\left(q_{3} - q_{4} \\right)} + 0.153 \\sin{\\left(q_{3} - q_{4} \\right)} \\cos{\\left(q_{6} \\right)} + 0.86 \\sin{\\left(q_{3} - q_{4} \\right)} - 0.15 \\cos{\\left(q_{3} - q_{4} \\right)}\\right) \\cos{\\left(q_{2} \\right)} + \\left(0.153 \\sin{\\left(q_{6} \\right)} \\cos{\\left(q_{5} \\right)} \\cos{\\left(q_{3} - q_{4} \\right)} - 0.153 \\sin{\\left(q_{3} - q_{4} \\right)} \\cos{\\left(q_{6} \\right)} - 0.86 \\sin{\\left(q_{3} - q_{4} \\right)} + 0.78 \\cos{\\left(q_{3} \\right)} + 0.15 \\cos{\\left(q_{3} - q_{4} \\right)}\\right) \\left(- 0.78 \\sin{\\left(q_{3} \\right)} - 0.153 \\sin{\\left(q_{6} \\right)} \\sin{\\left(q_{3} - q_{4} \\right)} \\cos{\\left(q_{5} \\right)} - 0.15 \\sin{\\left(q_{3} - q_{4} \\right)} - 0.153 \\cos{\\left(q_{6} \\right)} \\cos{\\left(q_{3} - q_{4} \\right)} - 0.86 \\cos{\\left(q_{3} - q_{4} \\right)}\\right) \\cos{\\left(q_{2} \\right)}\\right) \\left(- 0.023409 \\left(\\sin{\\left(q_{2} \\right)} \\cos{\\left(q_{5} \\right)} - \\sin{\\left(q_{5} \\right)} \\sin{\\left(q_{3} - q_{4} \\right)} \\cos{\\left(q_{2} \\right)}\\right) \\left(\\sin{\\left(q_{2} \\right)} \\sin{\\left(q_{5} \\right)} \\sin{\\left(q_{3} - q_{4} \\right)} + \\cos{\\left(q_{2} \\right)} \\cos{\\left(q_{5} \\right)}\\right) \\sin^{2}{\\left(q_{6} \\right)} + \\left(0.153 \\sin{\\left(q_{2} \\right)} \\sin{\\left(q_{5} \\right)} \\cos{\\left(q_{6} \\right)} - 0.153 \\sin{\\left(q_{6} \\right)} \\cos{\\left(q_{2} \\right)} \\cos{\\left(q_{3} - q_{4} \\right)} + 0.153 \\sin{\\left(q_{3} - q_{4} \\right)} \\cos{\\left(q_{2} \\right)} \\cos{\\left(q_{5} \\right)} \\cos{\\left(q_{6} \\right)}\\right) \\left(- 0.153 \\sin{\\left(q_{2} \\right)} \\sin{\\left(q_{6} \\right)} \\cos{\\left(q_{3} - q_{4} \\right)} + 0.153 \\sin{\\left(q_{2} \\right)} \\sin{\\left(q_{3} - q_{4} \\right)} \\cos{\\left(q_{5} \\right)} \\cos{\\left(q_{6} \\right)} - 0.153 \\sin{\\left(q_{5} \\right)} \\cos{\\left(q_{2} \\right)} \\cos{\\left(q_{6} \\right)}\\right) + 0.7396 \\left(- 0.177906976744186 \\sin{\\left(q_{6} \\right)} \\cos{\\left(q_{5} \\right)} \\cos{\\left(q_{3} - q_{4} \\right)} + 0.177906976744186 \\sin{\\left(q_{3} - q_{4} \\right)} \\cos{\\left(q_{6} \\right)} + \\sin{\\left(q_{3} - q_{4} \\right)} - 0.174418604651163 \\cos{\\left(q_{3} - q_{4} \\right)}\\right)^{2} \\sin{\\left(q_{2} \\right)} \\cos{\\left(q_{2} \\right)} + 0.7396 \\left(0.177906976744186 \\sin{\\left(q_{6} \\right)} \\cos{\\left(q_{5} \\right)} \\cos{\\left(q_{3} - q_{4} \\right)} - 0.177906976744186 \\sin{\\left(q_{3} - q_{4} \\right)} \\cos{\\left(q_{6} \\right)} - \\sin{\\left(q_{3} - q_{4} \\right)} + 0.906976744186046 \\cos{\\left(q_{3} \\right)} + 0.174418604651163 \\cos{\\left(q_{3} - q_{4} \\right)}\\right)^{2} \\sin{\\left(q_{2} \\right)} \\cos{\\left(q_{2} \\right)} + \\left(- 0.78 \\sin{\\left(q_{2} \\right)} \\sin{\\left(q_{3} \\right)} - 0.153 \\sin{\\left(q_{2} \\right)} \\sin{\\left(q_{6} \\right)} \\sin{\\left(q_{3} - q_{4} \\right)} \\cos{\\left(q_{5} \\right)} - 0.15 \\sin{\\left(q_{2} \\right)} \\sin{\\left(q_{3} - q_{4} \\right)} - 0.153 \\sin{\\left(q_{2} \\right)} \\cos{\\left(q_{6} \\right)} \\cos{\\left(q_{3} - q_{4} \\right)} - 0.86 \\sin{\\left(q_{2} \\right)} \\cos{\\left(q_{3} - q_{4} \\right)} - 0.16 \\sin{\\left(q_{2} \\right)} + 0.153 \\sin{\\left(q_{5} \\right)} \\sin{\\left(q_{6} \\right)} \\cos{\\left(q_{2} \\right)}\\right) \\left(0.153 \\sin{\\left(q_{2} \\right)} \\sin{\\left(q_{5} \\right)} \\sin{\\left(q_{6} \\right)} + 0.78 \\sin{\\left(q_{3} \\right)} \\cos{\\left(q_{2} \\right)} + 0.153 \\sin{\\left(q_{6} \\right)} \\sin{\\left(q_{3} - q_{4} \\right)} \\cos{\\left(q_{2} \\right)} \\cos{\\left(q_{5} \\right)} + 0.15 \\sin{\\left(q_{3} - q_{4} \\right)} \\cos{\\left(q_{2} \\right)} + 0.153 \\cos{\\left(q_{2} \\right)} \\cos{\\left(q_{6} \\right)} \\cos{\\left(q_{3} - q_{4} \\right)} + 0.86 \\cos{\\left(q_{2} \\right)} \\cos{\\left(q_{3} - q_{4} \\right)} + 0.16 \\cos{\\left(q_{2} \\right)}\\right)\\right) - \\left(- 0.023409 \\left(\\sin{\\left(q_{2} \\right)} \\cos{\\left(q_{5} \\right)} - \\sin{\\left(q_{5} \\right)} \\sin{\\left(q_{3} - q_{4} \\right)} \\cos{\\left(q_{2} \\right)}\\right) \\sin{\\left(q_{5} \\right)} \\sin^{2}{\\left(q_{6} \\right)} \\cos{\\left(q_{3} - q_{4} \\right)} + \\left(0.153 \\sin{\\left(q_{6} \\right)} \\sin{\\left(q_{3} - q_{4} \\right)} + 0.153 \\cos{\\left(q_{5} \\right)} \\cos{\\left(q_{6} \\right)} \\cos{\\left(q_{3} - q_{4} \\right)}\\right) \\left(0.153 \\sin{\\left(q_{2} \\right)} \\sin{\\left(q_{5} \\right)} \\cos{\\left(q_{6} \\right)} - 0.153 \\sin{\\left(q_{6} \\right)} \\cos{\\left(q_{2} \\right)} \\cos{\\left(q_{3} - q_{4} \\right)} + 0.153 \\sin{\\left(q_{3} - q_{4} \\right)} \\cos{\\left(q_{2} \\right)} \\cos{\\left(q_{5} \\right)} \\cos{\\left(q_{6} \\right)}\\right) + \\left(0.153 \\sin{\\left(q_{6} \\right)} \\sin{\\left(q_{3} - q_{4} \\right)} \\cos{\\left(q_{5} \\right)} + 0.15 \\sin{\\left(q_{3} - q_{4} \\right)} + 0.153 \\cos{\\left(q_{6} \\right)} \\cos{\\left(q_{3} - q_{4} \\right)} + 0.86 \\cos{\\left(q_{3} - q_{4} \\right)}\\right) \\left(- 0.153 \\sin{\\left(q_{6} \\right)} \\cos{\\left(q_{5} \\right)} \\cos{\\left(q_{3} - q_{4} \\right)} + 0.153 \\sin{\\left(q_{3} - q_{4} \\right)} \\cos{\\left(q_{6} \\right)} + 0.86 \\sin{\\left(q_{3} - q_{4} \\right)} - 0.15 \\cos{\\left(q_{3} - q_{4} \\right)}\\right) \\cos{\\left(q_{2} \\right)} + \\left(0.153 \\sin{\\left(q_{6} \\right)} \\cos{\\left(q_{5} \\right)} \\cos{\\left(q_{3} - q_{4} \\right)} - 0.153 \\sin{\\left(q_{3} - q_{4} \\right)} \\cos{\\left(q_{6} \\right)} - 0.86 \\sin{\\left(q_{3} - q_{4} \\right)} + 0.78 \\cos{\\left(q_{3} \\right)} + 0.15 \\cos{\\left(q_{3} - q_{4} \\right)}\\right) \\left(- 0.78 \\sin{\\left(q_{3} \\right)} - 0.153 \\sin{\\left(q_{6} \\right)} \\sin{\\left(q_{3} - q_{4} \\right)} \\cos{\\left(q_{5} \\right)} - 0.15 \\sin{\\left(q_{3} - q_{4} \\right)} - 0.153 \\cos{\\left(q_{6} \\right)} \\cos{\\left(q_{3} - q_{4} \\right)} - 0.86 \\cos{\\left(q_{3} - q_{4} \\right)}\\right) \\cos{\\left(q_{2} \\right)}\\right)^{2} \\cdot \\left(0.023409 \\left(\\sin{\\left(q_{2} \\right)} \\sin{\\left(q_{5} \\right)} \\sin{\\left(q_{3} - q_{4} \\right)} + \\cos{\\left(q_{2} \\right)} \\cos{\\left(q_{5} \\right)}\\right)^{2} \\sin^{2}{\\left(q_{6} \\right)} + 0.023409 \\left(- \\sin{\\left(q_{2} \\right)} \\sin{\\left(q_{6} \\right)} \\cos{\\left(q_{3} - q_{4} \\right)} + \\sin{\\left(q_{2} \\right)} \\sin{\\left(q_{3} - q_{4} \\right)} \\cos{\\left(q_{5} \\right)} \\cos{\\left(q_{6} \\right)} - \\sin{\\left(q_{5} \\right)} \\cos{\\left(q_{2} \\right)} \\cos{\\left(q_{6} \\right)}\\right)^{2} + 0.7396 \\left(- 0.177906976744186 \\sin{\\left(q_{6} \\right)} \\cos{\\left(q_{5} \\right)} \\cos{\\left(q_{3} - q_{4} \\right)} + 0.177906976744186 \\sin{\\left(q_{3} - q_{4} \\right)} \\cos{\\left(q_{6} \\right)} + \\sin{\\left(q_{3} - q_{4} \\right)} - 0.174418604651163 \\cos{\\left(q_{3} - q_{4} \\right)}\\right)^{2} \\sin^{2}{\\left(q_{2} \\right)} + 0.7396 \\left(0.177906976744186 \\sin{\\left(q_{6} \\right)} \\cos{\\left(q_{5} \\right)} \\cos{\\left(q_{3} - q_{4} \\right)} - 0.177906976744186 \\sin{\\left(q_{3} - q_{4} \\right)} \\cos{\\left(q_{6} \\right)} - \\sin{\\left(q_{3} - q_{4} \\right)} + 0.906976744186046 \\cos{\\left(q_{3} \\right)} + 0.174418604651163 \\cos{\\left(q_{3} - q_{4} \\right)}\\right)^{2} \\sin^{2}{\\left(q_{2} \\right)} + 0.7396 \\left(0.177906976744186 \\sin{\\left(q_{2} \\right)} \\sin{\\left(q_{5} \\right)} \\sin{\\left(q_{6} \\right)} + 0.906976744186046 \\sin{\\left(q_{3} \\right)} \\cos{\\left(q_{2} \\right)} + 0.177906976744186 \\sin{\\left(q_{6} \\right)} \\sin{\\left(q_{3} - q_{4} \\right)} \\cos{\\left(q_{2} \\right)} \\cos{\\left(q_{5} \\right)} + 0.174418604651163 \\sin{\\left(q_{3} - q_{4} \\right)} \\cos{\\left(q_{2} \\right)} + 0.177906976744186 \\cos{\\left(q_{2} \\right)} \\cos{\\left(q_{6} \\right)} \\cos{\\left(q_{3} - q_{4} \\right)} + \\cos{\\left(q_{2} \\right)} \\cos{\\left(q_{3} - q_{4} \\right)} + 0.186046511627907 \\cos{\\left(q_{2} \\right)}\\right)^{2}\\right) + \\left(0.023409 \\left(\\sin{\\left(q_{2} \\right)} \\cos{\\left(q_{5} \\right)} - \\sin{\\left(q_{5} \\right)} \\sin{\\left(q_{3} - q_{4} \\right)} \\cos{\\left(q_{2} \\right)}\\right)^{2} \\sin^{2}{\\left(q_{6} \\right)} + 0.023409 \\left(\\sin{\\left(q_{2} \\right)} \\sin{\\left(q_{5} \\right)} \\cos{\\left(q_{6} \\right)} - \\sin{\\left(q_{6} \\right)} \\cos{\\left(q_{2} \\right)} \\cos{\\left(q_{3} - q_{4} \\right)} + \\sin{\\left(q_{3} - q_{4} \\right)} \\cos{\\left(q_{2} \\right)} \\cos{\\left(q_{5} \\right)} \\cos{\\left(q_{6} \\right)}\\right)^{2} + 0.7396 \\left(- 0.177906976744186 \\sin{\\left(q_{6} \\right)} \\cos{\\left(q_{5} \\right)} \\cos{\\left(q_{3} - q_{4} \\right)} + 0.177906976744186 \\sin{\\left(q_{3} - q_{4} \\right)} \\cos{\\left(q_{6} \\right)} + \\sin{\\left(q_{3} - q_{4} \\right)} - 0.174418604651163 \\cos{\\left(q_{3} - q_{4} \\right)}\\right)^{2} \\cos^{2}{\\left(q_{2} \\right)} + 0.7396 \\left(0.177906976744186 \\sin{\\left(q_{6} \\right)} \\cos{\\left(q_{5} \\right)} \\cos{\\left(q_{3} - q_{4} \\right)} - 0.177906976744186 \\sin{\\left(q_{3} - q_{4} \\right)} \\cos{\\left(q_{6} \\right)} - \\sin{\\left(q_{3} - q_{4} \\right)} + 0.906976744186046 \\cos{\\left(q_{3} \\right)} + 0.174418604651163 \\cos{\\left(q_{3} - q_{4} \\right)}\\right)^{2} \\cos^{2}{\\left(q_{2} \\right)} + 0.7396 \\left(- 0.906976744186046 \\sin{\\left(q_{2} \\right)} \\sin{\\left(q_{3} \\right)} - 0.177906976744186 \\sin{\\left(q_{2} \\right)} \\sin{\\left(q_{6} \\right)} \\sin{\\left(q_{3} - q_{4} \\right)} \\cos{\\left(q_{5} \\right)} - 0.174418604651163 \\sin{\\left(q_{2} \\right)} \\sin{\\left(q_{3} - q_{4} \\right)} - 0.177906976744186 \\sin{\\left(q_{2} \\right)} \\cos{\\left(q_{6} \\right)} \\cos{\\left(q_{3} - q_{4} \\right)} - \\sin{\\left(q_{2} \\right)} \\cos{\\left(q_{3} - q_{4} \\right)} - 0.186046511627907 \\sin{\\left(q_{2} \\right)} + 0.177906976744186 \\sin{\\left(q_{5} \\right)} \\sin{\\left(q_{6} \\right)} \\cos{\\left(q_{2} \\right)}\\right)^{2}\\right) \\left(0.023409 \\left(\\sin{\\left(q_{2} \\right)} \\sin{\\left(q_{5} \\right)} \\sin{\\left(q_{3} - q_{4} \\right)} + \\cos{\\left(q_{2} \\right)} \\cos{\\left(q_{5} \\right)}\\right)^{2} \\sin^{2}{\\left(q_{6} \\right)} + 0.023409 \\left(- \\sin{\\left(q_{2} \\right)} \\sin{\\left(q_{6} \\right)} \\cos{\\left(q_{3} - q_{4} \\right)} + \\sin{\\left(q_{2} \\right)} \\sin{\\left(q_{3} - q_{4} \\right)} \\cos{\\left(q_{5} \\right)} \\cos{\\left(q_{6} \\right)} - \\sin{\\left(q_{5} \\right)} \\cos{\\left(q_{2} \\right)} \\cos{\\left(q_{6} \\right)}\\right)^{2} + 0.7396 \\left(- 0.177906976744186 \\sin{\\left(q_{6} \\right)} \\cos{\\left(q_{5} \\right)} \\cos{\\left(q_{3} - q_{4} \\right)} + 0.177906976744186 \\sin{\\left(q_{3} - q_{4} \\right)} \\cos{\\left(q_{6} \\right)} + \\sin{\\left(q_{3} - q_{4} \\right)} - 0.174418604651163 \\cos{\\left(q_{3} - q_{4} \\right)}\\right)^{2} \\sin^{2}{\\left(q_{2} \\right)} + 0.7396 \\left(0.177906976744186 \\sin{\\left(q_{6} \\right)} \\cos{\\left(q_{5} \\right)} \\cos{\\left(q_{3} - q_{4} \\right)} - 0.177906976744186 \\sin{\\left(q_{3} - q_{4} \\right)} \\cos{\\left(q_{6} \\right)} - \\sin{\\left(q_{3} - q_{4} \\right)} + 0.906976744186046 \\cos{\\left(q_{3} \\right)} + 0.174418604651163 \\cos{\\left(q_{3} - q_{4} \\right)}\\right)^{2} \\sin^{2}{\\left(q_{2} \\right)} + 0.7396 \\left(0.177906976744186 \\sin{\\left(q_{2} \\right)} \\sin{\\left(q_{5} \\right)} \\sin{\\left(q_{6} \\right)} + 0.906976744186046 \\sin{\\left(q_{3} \\right)} \\cos{\\left(q_{2} \\right)} + 0.177906976744186 \\sin{\\left(q_{6} \\right)} \\sin{\\left(q_{3} - q_{4} \\right)} \\cos{\\left(q_{2} \\right)} \\cos{\\left(q_{5} \\right)} + 0.174418604651163 \\sin{\\left(q_{3} - q_{4} \\right)} \\cos{\\left(q_{2} \\right)} + 0.177906976744186 \\cos{\\left(q_{2} \\right)} \\cos{\\left(q_{6} \\right)} \\cos{\\left(q_{3} - q_{4} \\right)} + \\cos{\\left(q_{2} \\right)} \\cos{\\left(q_{3} - q_{4} \\right)} + 0.186046511627907 \\cos{\\left(q_{2} \\right)}\\right)^{2}\\right) \\left(0.023409 \\left(\\sin{\\left(q_{6} \\right)} \\sin{\\left(q_{3} - q_{4} \\right)} + \\cos{\\left(q_{5} \\right)} \\cos{\\left(q_{6} \\right)} \\cos{\\left(q_{3} - q_{4} \\right)}\\right)^{2} + 0.7396 \\left(0.177906976744186 \\sin{\\left(q_{6} \\right)} \\sin{\\left(q_{3} - q_{4} \\right)} \\cos{\\left(q_{5} \\right)} + 0.174418604651163 \\sin{\\left(q_{3} - q_{4} \\right)} + 0.177906976744186 \\cos{\\left(q_{6} \\right)} \\cos{\\left(q_{3} - q_{4} \\right)} + \\cos{\\left(q_{3} - q_{4} \\right)}\\right)^{2} + 0.7396 \\left(- 0.906976744186046 \\sin{\\left(q_{3} \\right)} - 0.177906976744186 \\sin{\\left(q_{6} \\right)} \\sin{\\left(q_{3} - q_{4} \\right)} \\cos{\\left(q_{5} \\right)} - 0.174418604651163 \\sin{\\left(q_{3} - q_{4} \\right)} - 0.177906976744186 \\cos{\\left(q_{6} \\right)} \\cos{\\left(q_{3} - q_{4} \\right)} - \\cos{\\left(q_{3} - q_{4} \\right)}\\right)^{2} + 0.023409 \\sin^{2}{\\left(q_{5} \\right)} \\sin^{2}{\\left(q_{6} \\right)} \\cos^{2}{\\left(q_{3} - q_{4} \\right)} + 1.0\\right)$"
      ],
      "text/plain": [
       "-((0.153*sin(q6)*sin(q3 - q4) + 0.153*cos(q5)*cos(q6)*cos(q3 - q4))*(-0.153*sin(q2)*sin(q6)*cos(q3 - q4) + 0.153*sin(q2)*sin(q3 - q4)*cos(q5)*cos(q6) - 0.153*sin(q5)*cos(q2)*cos(q6)) + 0.023409*(sin(q2)*sin(q5)*sin(q3 - q4) + cos(q2)*cos(q5))*sin(q5)*sin(q6)**2*cos(q3 - q4) + (0.153*sin(q6)*sin(q3 - q4)*cos(q5) + 0.15*sin(q3 - q4) + 0.153*cos(q6)*cos(q3 - q4) + 0.86*cos(q3 - q4))*(-0.153*sin(q6)*cos(q5)*cos(q3 - q4) + 0.153*sin(q3 - q4)*cos(q6) + 0.86*sin(q3 - q4) - 0.15*cos(q3 - q4))*sin(q2) + (0.153*sin(q6)*cos(q5)*cos(q3 - q4) - 0.153*sin(q3 - q4)*cos(q6) - 0.86*sin(q3 - q4) + 0.78*cos(q3) + 0.15*cos(q3 - q4))*(-0.78*sin(q3) - 0.153*sin(q6)*sin(q3 - q4)*cos(q5) - 0.15*sin(q3 - q4) - 0.153*cos(q6)*cos(q3 - q4) - 0.86*cos(q3 - q4))*sin(q2))**2*(0.023409*(sin(q2)*cos(q5) - sin(q5)*sin(q3 - q4)*cos(q2))**2*sin(q6)**2 + 0.023409*(sin(q2)*sin(q5)*cos(q6) - sin(q6)*cos(q2)*cos(q3 - q4) + sin(q3 - q4)*cos(q2)*cos(q5)*cos(q6))**2 + (0.7396*(-0.177906976744186*sin(q6)*cos(q5)*cos(q3 - q4) + 0.177906976744186*sin(q3 - q4)*cos(q6) + sin(q3 - q4) - 0.174418604651163*cos(q3 - q4))**2)*cos(q2)**2 + (0.7396*(0.177906976744186*sin(q6)*cos(q5)*cos(q3 - q4) - 0.177906976744186*sin(q3 - q4)*cos(q6) - sin(q3 - q4) + 0.906976744186046*cos(q3) + 0.174418604651163*cos(q3 - q4))**2)*cos(q2)**2 + 0.7396*(-0.906976744186046*sin(q2)*sin(q3) - 0.177906976744186*sin(q2)*sin(q6)*sin(q3 - q4)*cos(q5) - 0.174418604651163*sin(q2)*sin(q3 - q4) - 0.177906976744186*sin(q2)*cos(q6)*cos(q3 - q4) - sin(q2)*cos(q3 - q4) - 0.186046511627907*sin(q2) + 0.177906976744186*sin(q5)*sin(q6)*cos(q2))**2) + ((0.153*sin(q6)*sin(q3 - q4) + 0.153*cos(q5)*cos(q6)*cos(q3 - q4))*(-0.153*sin(q2)*sin(q6)*cos(q3 - q4) + 0.153*sin(q2)*sin(q3 - q4)*cos(q5)*cos(q6) - 0.153*sin(q5)*cos(q2)*cos(q6)) + 0.023409*(sin(q2)*sin(q5)*sin(q3 - q4) + cos(q2)*cos(q5))*sin(q5)*sin(q6)**2*cos(q3 - q4) + (0.153*sin(q6)*sin(q3 - q4)*cos(q5) + 0.15*sin(q3 - q4) + 0.153*cos(q6)*cos(q3 - q4) + 0.86*cos(q3 - q4))*(-0.153*sin(q6)*cos(q5)*cos(q3 - q4) + 0.153*sin(q3 - q4)*cos(q6) + 0.86*sin(q3 - q4) - 0.15*cos(q3 - q4))*sin(q2) + (0.153*sin(q6)*cos(q5)*cos(q3 - q4) - 0.153*sin(q3 - q4)*cos(q6) - 0.86*sin(q3 - q4) + 0.78*cos(q3) + 0.15*cos(q3 - q4))*(-0.78*sin(q3) - 0.153*sin(q6)*sin(q3 - q4)*cos(q5) - 0.15*sin(q3 - q4) - 0.153*cos(q6)*cos(q3 - q4) - 0.86*cos(q3 - q4))*sin(q2))*(-0.023409*(sin(q2)*cos(q5) - sin(q5)*sin(q3 - q4)*cos(q2))*sin(q5)*sin(q6)**2*cos(q3 - q4) + (0.153*sin(q6)*sin(q3 - q4) + 0.153*cos(q5)*cos(q6)*cos(q3 - q4))*(0.153*sin(q2)*sin(q5)*cos(q6) - 0.153*sin(q6)*cos(q2)*cos(q3 - q4) + 0.153*sin(q3 - q4)*cos(q2)*cos(q5)*cos(q6)) + (0.153*sin(q6)*sin(q3 - q4)*cos(q5) + 0.15*sin(q3 - q4) + 0.153*cos(q6)*cos(q3 - q4) + 0.86*cos(q3 - q4))*(-0.153*sin(q6)*cos(q5)*cos(q3 - q4) + 0.153*sin(q3 - q4)*cos(q6) + 0.86*sin(q3 - q4) - 0.15*cos(q3 - q4))*cos(q2) + (0.153*sin(q6)*cos(q5)*cos(q3 - q4) - 0.153*sin(q3 - q4)*cos(q6) - 0.86*sin(q3 - q4) + 0.78*cos(q3) + 0.15*cos(q3 - q4))*(-0.78*sin(q3) - 0.153*sin(q6)*sin(q3 - q4)*cos(q5) - 0.15*sin(q3 - q4) - 0.153*cos(q6)*cos(q3 - q4) - 0.86*cos(q3 - q4))*cos(q2))*(-0.023409*(sin(q2)*cos(q5) - sin(q5)*sin(q3 - q4)*cos(q2))*(sin(q2)*sin(q5)*sin(q3 - q4) + cos(q2)*cos(q5))*sin(q6)**2 + (0.153*sin(q2)*sin(q5)*cos(q6) - 0.153*sin(q6)*cos(q2)*cos(q3 - q4) + 0.153*sin(q3 - q4)*cos(q2)*cos(q5)*cos(q6))*(-0.153*sin(q2)*sin(q6)*cos(q3 - q4) + 0.153*sin(q2)*sin(q3 - q4)*cos(q5)*cos(q6) - 0.153*sin(q5)*cos(q2)*cos(q6)) + (0.7396*(-0.177906976744186*sin(q6)*cos(q5)*cos(q3 - q4) + 0.177906976744186*sin(q3 - q4)*cos(q6) + sin(q3 - q4) - 0.174418604651163*cos(q3 - q4))**2)*sin(q2)*cos(q2) + (0.7396*(0.177906976744186*sin(q6)*cos(q5)*cos(q3 - q4) - 0.177906976744186*sin(q3 - q4)*cos(q6) - sin(q3 - q4) + 0.906976744186046*cos(q3) + 0.174418604651163*cos(q3 - q4))**2)*sin(q2)*cos(q2) + (-0.78*sin(q2)*sin(q3) - 0.153*sin(q2)*sin(q6)*sin(q3 - q4)*cos(q5) - 0.15*sin(q2)*sin(q3 - q4) - 0.153*sin(q2)*cos(q6)*cos(q3 - q4) - 0.86*sin(q2)*cos(q3 - q4) - 0.16*sin(q2) + 0.153*sin(q5)*sin(q6)*cos(q2))*(0.153*sin(q2)*sin(q5)*sin(q6) + 0.78*sin(q3)*cos(q2) + 0.153*sin(q6)*sin(q3 - q4)*cos(q2)*cos(q5) + 0.15*sin(q3 - q4)*cos(q2) + 0.153*cos(q2)*cos(q6)*cos(q3 - q4) + 0.86*cos(q2)*cos(q3 - q4) + 0.16*cos(q2))) - (-0.023409*(sin(q2)*cos(q5) - sin(q5)*sin(q3 - q4)*cos(q2))*sin(q5)*sin(q6)**2*cos(q3 - q4) + (0.153*sin(q6)*sin(q3 - q4) + 0.153*cos(q5)*cos(q6)*cos(q3 - q4))*(0.153*sin(q2)*sin(q5)*cos(q6) - 0.153*sin(q6)*cos(q2)*cos(q3 - q4) + 0.153*sin(q3 - q4)*cos(q2)*cos(q5)*cos(q6)) + (0.153*sin(q6)*sin(q3 - q4)*cos(q5) + 0.15*sin(q3 - q4) + 0.153*cos(q6)*cos(q3 - q4) + 0.86*cos(q3 - q4))*(-0.153*sin(q6)*cos(q5)*cos(q3 - q4) + 0.153*sin(q3 - q4)*cos(q6) + 0.86*sin(q3 - q4) - 0.15*cos(q3 - q4))*cos(q2) + (0.153*sin(q6)*cos(q5)*cos(q3 - q4) - 0.153*sin(q3 - q4)*cos(q6) - 0.86*sin(q3 - q4) + 0.78*cos(q3) + 0.15*cos(q3 - q4))*(-0.78*sin(q3) - 0.153*sin(q6)*sin(q3 - q4)*cos(q5) - 0.15*sin(q3 - q4) - 0.153*cos(q6)*cos(q3 - q4) - 0.86*cos(q3 - q4))*cos(q2))**2*(0.023409*(sin(q2)*sin(q5)*sin(q3 - q4) + cos(q2)*cos(q5))**2*sin(q6)**2 + 0.023409*(-sin(q2)*sin(q6)*cos(q3 - q4) + sin(q2)*sin(q3 - q4)*cos(q5)*cos(q6) - sin(q5)*cos(q2)*cos(q6))**2 + (0.7396*(-0.177906976744186*sin(q6)*cos(q5)*cos(q3 - q4) + 0.177906976744186*sin(q3 - q4)*cos(q6) + sin(q3 - q4) - 0.174418604651163*cos(q3 - q4))**2)*sin(q2)**2 + (0.7396*(0.177906976744186*sin(q6)*cos(q5)*cos(q3 - q4) - 0.177906976744186*sin(q3 - q4)*cos(q6) - sin(q3 - q4) + 0.906976744186046*cos(q3) + 0.174418604651163*cos(q3 - q4))**2)*sin(q2)**2 + 0.7396*(0.177906976744186*sin(q2)*sin(q5)*sin(q6) + 0.906976744186046*sin(q3)*cos(q2) + 0.177906976744186*sin(q6)*sin(q3 - q4)*cos(q2)*cos(q5) + 0.174418604651163*sin(q3 - q4)*cos(q2) + 0.177906976744186*cos(q2)*cos(q6)*cos(q3 - q4) + cos(q2)*cos(q3 - q4) + 0.186046511627907*cos(q2))**2) + (0.023409*(sin(q2)*cos(q5) - sin(q5)*sin(q3 - q4)*cos(q2))**2*sin(q6)**2 + 0.023409*(sin(q2)*sin(q5)*cos(q6) - sin(q6)*cos(q2)*cos(q3 - q4) + sin(q3 - q4)*cos(q2)*cos(q5)*cos(q6))**2 + (0.7396*(-0.177906976744186*sin(q6)*cos(q5)*cos(q3 - q4) + 0.177906976744186*sin(q3 - q4)*cos(q6) + sin(q3 - q4) - 0.174418604651163*cos(q3 - q4))**2)*cos(q2)**2 + (0.7396*(0.177906976744186*sin(q6)*cos(q5)*cos(q3 - q4) - 0.177906976744186*sin(q3 - q4)*cos(q6) - sin(q3 - q4) + 0.906976744186046*cos(q3) + 0.174418604651163*cos(q3 - q4))**2)*cos(q2)**2 + 0.7396*(-0.906976744186046*sin(q2)*sin(q3) - 0.177906976744186*sin(q2)*sin(q6)*sin(q3 - q4)*cos(q5) - 0.174418604651163*sin(q2)*sin(q3 - q4) - 0.177906976744186*sin(q2)*cos(q6)*cos(q3 - q4) - sin(q2)*cos(q3 - q4) - 0.186046511627907*sin(q2) + 0.177906976744186*sin(q5)*sin(q6)*cos(q2))**2)*(0.023409*(sin(q2)*sin(q5)*sin(q3 - q4) + cos(q2)*cos(q5))**2*sin(q6)**2 + 0.023409*(-sin(q2)*sin(q6)*cos(q3 - q4) + sin(q2)*sin(q3 - q4)*cos(q5)*cos(q6) - sin(q5)*cos(q2)*cos(q6))**2 + (0.7396*(-0.177906976744186*sin(q6)*cos(q5)*cos(q3 - q4) + 0.177906976744186*sin(q3 - q4)*cos(q6) + sin(q3 - q4) - 0.174418604651163*cos(q3 - q4))**2)*sin(q2)**2 + (0.7396*(0.177906976744186*sin(q6)*cos(q5)*cos(q3 - q4) - 0.177906976744186*sin(q3 - q4)*cos(q6) - sin(q3 - q4) + 0.906976744186046*cos(q3) + 0.174418604651163*cos(q3 - q4))**2)*sin(q2)**2 + 0.7396*(0.177906976744186*sin(q2)*sin(q5)*sin(q6) + 0.906976744186046*sin(q3)*cos(q2) + 0.177906976744186*sin(q6)*sin(q3 - q4)*cos(q2)*cos(q5) + 0.174418604651163*sin(q3 - q4)*cos(q2) + 0.177906976744186*cos(q2)*cos(q6)*cos(q3 - q4) + cos(q2)*cos(q3 - q4) + 0.186046511627907*cos(q2))**2)*(0.023409*(sin(q6)*sin(q3 - q4) + cos(q5)*cos(q6)*cos(q3 - q4))**2 + 0.7396*(0.177906976744186*sin(q6)*sin(q3 - q4)*cos(q5) + 0.174418604651163*sin(q3 - q4) + 0.177906976744186*cos(q6)*cos(q3 - q4) + cos(q3 - q4))**2 + 0.7396*(-0.906976744186046*sin(q3) - 0.177906976744186*sin(q6)*sin(q3 - q4)*cos(q5) - 0.174418604651163*sin(q3 - q4) - 0.177906976744186*cos(q6)*cos(q3 - q4) - cos(q3 - q4))**2 + 0.023409*sin(q5)**2*sin(q6)**2*cos(q3 - q4)**2 + 1.0)"
      ]
     },
     "execution_count": 133,
     "metadata": {},
     "output_type": "execute_result"
    }
   ],
   "source": [
    "J_c = J @ J.T\n",
    "det_J = (J_c[0,0] * J_c[1,1] * J_c[2,2] + J_c[0,1] * J_c[1,2] * J_c[2,0] + J_c[0,2]*J[1,0]*J[2,1]) - (J_c[2,0] * J_c[1,1] * J_c[0,2] + J_c[0,0] * J_c[1,2] * J_c[2,1] + J_c[2,2]*J[1,0]*J[0,1])\n",
    "det_J\n"
   ]
  },
  {
   "cell_type": "code",
   "execution_count": 127,
   "metadata": {},
   "outputs": [
    {
     "ename": "KeyboardInterrupt",
     "evalue": "",
     "output_type": "error",
     "traceback": [
      "\u001b[1;31m---------------------------------------------------------------------------\u001b[0m",
      "\u001b[1;31mKeyError\u001b[0m                                  Traceback (most recent call last)",
      "File \u001b[1;32m~\\AppData\\Local\\Packages\\PythonSoftwareFoundation.Python.3.11_qbz5n2kfra8p0\\LocalCache\\local-packages\\Python311\\site-packages\\sympy\\core\\assumptions.py:499\u001b[0m, in \u001b[0;36mmake_property.<locals>.getit\u001b[1;34m(self)\u001b[0m\n\u001b[0;32m    498\u001b[0m \u001b[39mtry\u001b[39;00m:\n\u001b[1;32m--> 499\u001b[0m     \u001b[39mreturn\u001b[39;00m \u001b[39mself\u001b[39;49m\u001b[39m.\u001b[39;49m_assumptions[fact]\n\u001b[0;32m    500\u001b[0m \u001b[39mexcept\u001b[39;00m \u001b[39mKeyError\u001b[39;00m:\n",
      "\u001b[1;31mKeyError\u001b[0m: 'zero'",
      "\nDuring handling of the above exception, another exception occurred:\n",
      "\u001b[1;31mKeyboardInterrupt\u001b[0m                         Traceback (most recent call last)",
      "\u001b[1;32md:\\Users\\user\\OneDrive - UNIVERSIDAD DE INGENIERIA Y TECNOLOGIA\\UTEC\\CICLO 7\\Fundamentos de la Robótica\\Proyecto.ipynb Cell 9\u001b[0m line \u001b[0;36m1\n\u001b[1;32m----> <a href='vscode-notebook-cell:/d%3A/Users/user/OneDrive%20-%20UNIVERSIDAD%20DE%20INGENIERIA%20Y%20TECNOLOGIA/UTEC/CICLO%207/Fundamentos%20de%20la%20Rob%C3%B3tica/Proyecto.ipynb#X25sZmlsZQ%3D%3D?line=0'>1</a>\u001b[0m sp\u001b[39m.\u001b[39;49msimplify(det_J)\n",
      "File \u001b[1;32m~\\AppData\\Local\\Packages\\PythonSoftwareFoundation.Python.3.11_qbz5n2kfra8p0\\LocalCache\\local-packages\\Python311\\site-packages\\sympy\\simplify\\simplify.py:645\u001b[0m, in \u001b[0;36msimplify\u001b[1;34m(expr, ratio, measure, rational, inverse, doit, **kwargs)\u001b[0m\n\u001b[0;32m    643\u001b[0m expr \u001b[39m=\u001b[39m Mul(\u001b[39m*\u001b[39mpowsimp(expr)\u001b[39m.\u001b[39mas_content_primitive())\n\u001b[0;32m    644\u001b[0m _e \u001b[39m=\u001b[39m cancel(expr)\n\u001b[1;32m--> 645\u001b[0m expr1 \u001b[39m=\u001b[39m shorter(_e, _mexpand(_e)\u001b[39m.\u001b[39;49mcancel())  \u001b[39m# issue 6829\u001b[39;00m\n\u001b[0;32m    646\u001b[0m expr2 \u001b[39m=\u001b[39m shorter(together(expr, deep\u001b[39m=\u001b[39m\u001b[39mTrue\u001b[39;00m), together(expr1, deep\u001b[39m=\u001b[39m\u001b[39mTrue\u001b[39;00m))\n\u001b[0;32m    648\u001b[0m \u001b[39mif\u001b[39;00m ratio \u001b[39mis\u001b[39;00m S\u001b[39m.\u001b[39mInfinity:\n",
      "File \u001b[1;32m~\\AppData\\Local\\Packages\\PythonSoftwareFoundation.Python.3.11_qbz5n2kfra8p0\\LocalCache\\local-packages\\Python311\\site-packages\\sympy\\core\\expr.py:3791\u001b[0m, in \u001b[0;36mExpr.cancel\u001b[1;34m(self, *gens, **args)\u001b[0m\n\u001b[0;32m   3789\u001b[0m \u001b[39m\u001b[39m\u001b[39m\"\"\"See the cancel function in sympy.polys\"\"\"\u001b[39;00m\n\u001b[0;32m   3790\u001b[0m \u001b[39mfrom\u001b[39;00m \u001b[39msympy\u001b[39;00m\u001b[39m.\u001b[39;00m\u001b[39mpolys\u001b[39;00m\u001b[39m.\u001b[39;00m\u001b[39mpolytools\u001b[39;00m \u001b[39mimport\u001b[39;00m cancel\n\u001b[1;32m-> 3791\u001b[0m \u001b[39mreturn\u001b[39;00m cancel(\u001b[39mself\u001b[39;49m, \u001b[39m*\u001b[39;49mgens, \u001b[39m*\u001b[39;49m\u001b[39m*\u001b[39;49margs)\n",
      "File \u001b[1;32m~\\AppData\\Local\\Packages\\PythonSoftwareFoundation.Python.3.11_qbz5n2kfra8p0\\LocalCache\\local-packages\\Python311\\site-packages\\sympy\\polys\\polytools.py:6859\u001b[0m, in \u001b[0;36mcancel\u001b[1;34m(f, _signsimp, *gens, **args)\u001b[0m\n\u001b[0;32m   6857\u001b[0m \u001b[39mif\u001b[39;00m f\u001b[39m.\u001b[39mhas(Piecewise):\n\u001b[0;32m   6858\u001b[0m     \u001b[39mraise\u001b[39;00m PolynomialError()\n\u001b[1;32m-> 6859\u001b[0m R, (F, G) \u001b[39m=\u001b[39m sring((p, q), \u001b[39m*\u001b[39;49mgens, \u001b[39m*\u001b[39;49m\u001b[39m*\u001b[39;49margs)\n\u001b[0;32m   6860\u001b[0m \u001b[39mif\u001b[39;00m \u001b[39mnot\u001b[39;00m R\u001b[39m.\u001b[39mngens:\n\u001b[0;32m   6861\u001b[0m     \u001b[39mif\u001b[39;00m \u001b[39mnot\u001b[39;00m \u001b[39misinstance\u001b[39m(f, (\u001b[39mtuple\u001b[39m, Tuple)):\n",
      "File \u001b[1;32m~\\AppData\\Local\\Packages\\PythonSoftwareFoundation.Python.3.11_qbz5n2kfra8p0\\LocalCache\\local-packages\\Python311\\site-packages\\sympy\\polys\\rings.py:163\u001b[0m, in \u001b[0;36msring\u001b[1;34m(exprs, *symbols, **options)\u001b[0m\n\u001b[0;32m    160\u001b[0m opt \u001b[39m=\u001b[39m build_options(symbols, options)\n\u001b[0;32m    162\u001b[0m \u001b[39m# TODO: rewrite this so that it doesn't use expand() (see poly()).\u001b[39;00m\n\u001b[1;32m--> 163\u001b[0m reps, opt \u001b[39m=\u001b[39m _parallel_dict_from_expr(exprs, opt)\n\u001b[0;32m    165\u001b[0m \u001b[39mif\u001b[39;00m opt\u001b[39m.\u001b[39mdomain \u001b[39mis\u001b[39;00m \u001b[39mNone\u001b[39;00m:\n\u001b[0;32m    166\u001b[0m     coeffs \u001b[39m=\u001b[39m \u001b[39msum\u001b[39m([ \u001b[39mlist\u001b[39m(rep\u001b[39m.\u001b[39mvalues()) \u001b[39mfor\u001b[39;00m rep \u001b[39min\u001b[39;00m reps ], [])\n",
      "File \u001b[1;32m~\\AppData\\Local\\Packages\\PythonSoftwareFoundation.Python.3.11_qbz5n2kfra8p0\\LocalCache\\local-packages\\Python311\\site-packages\\sympy\\polys\\polyutils.py:326\u001b[0m, in \u001b[0;36m_parallel_dict_from_expr\u001b[1;34m(exprs, opt)\u001b[0m\n\u001b[0;32m    324\u001b[0m \u001b[39m\u001b[39m\u001b[39m\"\"\"Transform expressions into a multinomial form. \"\"\"\u001b[39;00m\n\u001b[0;32m    325\u001b[0m \u001b[39mif\u001b[39;00m opt\u001b[39m.\u001b[39mexpand \u001b[39mis\u001b[39;00m \u001b[39mnot\u001b[39;00m \u001b[39mFalse\u001b[39;00m:\n\u001b[1;32m--> 326\u001b[0m     exprs \u001b[39m=\u001b[39m [ expr\u001b[39m.\u001b[39;49mexpand() \u001b[39mfor\u001b[39;49;00m expr \u001b[39min\u001b[39;49;00m exprs ]\n\u001b[0;32m    328\u001b[0m \u001b[39mif\u001b[39;00m \u001b[39many\u001b[39m(expr\u001b[39m.\u001b[39mis_commutative \u001b[39mis\u001b[39;00m \u001b[39mFalse\u001b[39;00m \u001b[39mfor\u001b[39;00m expr \u001b[39min\u001b[39;00m exprs):\n\u001b[0;32m    329\u001b[0m     \u001b[39mraise\u001b[39;00m PolynomialError(\u001b[39m'\u001b[39m\u001b[39mnon-commutative expressions are not supported\u001b[39m\u001b[39m'\u001b[39m)\n",
      "File \u001b[1;32m~\\AppData\\Local\\Packages\\PythonSoftwareFoundation.Python.3.11_qbz5n2kfra8p0\\LocalCache\\local-packages\\Python311\\site-packages\\sympy\\polys\\polyutils.py:326\u001b[0m, in \u001b[0;36m<listcomp>\u001b[1;34m(.0)\u001b[0m\n\u001b[0;32m    324\u001b[0m \u001b[39m\u001b[39m\u001b[39m\"\"\"Transform expressions into a multinomial form. \"\"\"\u001b[39;00m\n\u001b[0;32m    325\u001b[0m \u001b[39mif\u001b[39;00m opt\u001b[39m.\u001b[39mexpand \u001b[39mis\u001b[39;00m \u001b[39mnot\u001b[39;00m \u001b[39mFalse\u001b[39;00m:\n\u001b[1;32m--> 326\u001b[0m     exprs \u001b[39m=\u001b[39m [ expr\u001b[39m.\u001b[39;49mexpand() \u001b[39mfor\u001b[39;00m expr \u001b[39min\u001b[39;00m exprs ]\n\u001b[0;32m    328\u001b[0m \u001b[39mif\u001b[39;00m \u001b[39many\u001b[39m(expr\u001b[39m.\u001b[39mis_commutative \u001b[39mis\u001b[39;00m \u001b[39mFalse\u001b[39;00m \u001b[39mfor\u001b[39;00m expr \u001b[39min\u001b[39;00m exprs):\n\u001b[0;32m    329\u001b[0m     \u001b[39mraise\u001b[39;00m PolynomialError(\u001b[39m'\u001b[39m\u001b[39mnon-commutative expressions are not supported\u001b[39m\u001b[39m'\u001b[39m)\n",
      "File \u001b[1;32m~\\AppData\\Local\\Packages\\PythonSoftwareFoundation.Python.3.11_qbz5n2kfra8p0\\LocalCache\\local-packages\\Python311\\site-packages\\sympy\\core\\cache.py:72\u001b[0m, in \u001b[0;36m__cacheit.<locals>.func_wrapper.<locals>.wrapper\u001b[1;34m(*args, **kwargs)\u001b[0m\n\u001b[0;32m     69\u001b[0m \u001b[39m@wraps\u001b[39m(func)\n\u001b[0;32m     70\u001b[0m \u001b[39mdef\u001b[39;00m \u001b[39mwrapper\u001b[39m(\u001b[39m*\u001b[39margs, \u001b[39m*\u001b[39m\u001b[39m*\u001b[39mkwargs):\n\u001b[0;32m     71\u001b[0m     \u001b[39mtry\u001b[39;00m:\n\u001b[1;32m---> 72\u001b[0m         retval \u001b[39m=\u001b[39m cfunc(\u001b[39m*\u001b[39;49margs, \u001b[39m*\u001b[39;49m\u001b[39m*\u001b[39;49mkwargs)\n\u001b[0;32m     73\u001b[0m     \u001b[39mexcept\u001b[39;00m \u001b[39mTypeError\u001b[39;00m \u001b[39mas\u001b[39;00m e:\n\u001b[0;32m     74\u001b[0m         \u001b[39mif\u001b[39;00m \u001b[39mnot\u001b[39;00m e\u001b[39m.\u001b[39margs \u001b[39mor\u001b[39;00m \u001b[39mnot\u001b[39;00m e\u001b[39m.\u001b[39margs[\u001b[39m0\u001b[39m]\u001b[39m.\u001b[39mstartswith(\u001b[39m'\u001b[39m\u001b[39munhashable type:\u001b[39m\u001b[39m'\u001b[39m):\n",
      "File \u001b[1;32m~\\AppData\\Local\\Packages\\PythonSoftwareFoundation.Python.3.11_qbz5n2kfra8p0\\LocalCache\\local-packages\\Python311\\site-packages\\sympy\\core\\expr.py:3690\u001b[0m, in \u001b[0;36mExpr.expand\u001b[1;34m(self, deep, modulus, power_base, power_exp, mul, log, multinomial, basic, **hints)\u001b[0m\n\u001b[0;32m   3687\u001b[0m     expr, _ \u001b[39m=\u001b[39m Expr\u001b[39m.\u001b[39m_expand_hint(\n\u001b[0;32m   3688\u001b[0m         expr, \u001b[39m'\u001b[39m\u001b[39m_eval_expand_multinomial\u001b[39m\u001b[39m'\u001b[39m, deep\u001b[39m=\u001b[39mdeep, \u001b[39m*\u001b[39m\u001b[39m*\u001b[39mhints)\n\u001b[0;32m   3689\u001b[0m \u001b[39mif\u001b[39;00m hints\u001b[39m.\u001b[39mget(\u001b[39m'\u001b[39m\u001b[39mmul\u001b[39m\u001b[39m'\u001b[39m, \u001b[39mFalse\u001b[39;00m):\n\u001b[1;32m-> 3690\u001b[0m     expr, _ \u001b[39m=\u001b[39m Expr\u001b[39m.\u001b[39;49m_expand_hint(\n\u001b[0;32m   3691\u001b[0m         expr, \u001b[39m'\u001b[39;49m\u001b[39m_eval_expand_mul\u001b[39;49m\u001b[39m'\u001b[39;49m, deep\u001b[39m=\u001b[39;49mdeep, \u001b[39m*\u001b[39;49m\u001b[39m*\u001b[39;49mhints)\n\u001b[0;32m   3692\u001b[0m \u001b[39mif\u001b[39;00m hints\u001b[39m.\u001b[39mget(\u001b[39m'\u001b[39m\u001b[39mlog\u001b[39m\u001b[39m'\u001b[39m, \u001b[39mFalse\u001b[39;00m):\n\u001b[0;32m   3693\u001b[0m     expr, _ \u001b[39m=\u001b[39m Expr\u001b[39m.\u001b[39m_expand_hint(\n\u001b[0;32m   3694\u001b[0m         expr, \u001b[39m'\u001b[39m\u001b[39m_eval_expand_log\u001b[39m\u001b[39m'\u001b[39m, deep\u001b[39m=\u001b[39mdeep, \u001b[39m*\u001b[39m\u001b[39m*\u001b[39mhints)\n",
      "File \u001b[1;32m~\\AppData\\Local\\Packages\\PythonSoftwareFoundation.Python.3.11_qbz5n2kfra8p0\\LocalCache\\local-packages\\Python311\\site-packages\\sympy\\core\\expr.py:3615\u001b[0m, in \u001b[0;36mExpr._expand_hint\u001b[1;34m(expr, hint, deep, **hints)\u001b[0m\n\u001b[0;32m   3613\u001b[0m sargs \u001b[39m=\u001b[39m []\n\u001b[0;32m   3614\u001b[0m \u001b[39mfor\u001b[39;00m arg \u001b[39min\u001b[39;00m expr\u001b[39m.\u001b[39margs:\n\u001b[1;32m-> 3615\u001b[0m     arg, arghit \u001b[39m=\u001b[39m Expr\u001b[39m.\u001b[39;49m_expand_hint(arg, hint, \u001b[39m*\u001b[39;49m\u001b[39m*\u001b[39;49mhints)\n\u001b[0;32m   3616\u001b[0m     hit \u001b[39m|\u001b[39m\u001b[39m=\u001b[39m arghit\n\u001b[0;32m   3617\u001b[0m     sargs\u001b[39m.\u001b[39mappend(arg)\n",
      "File \u001b[1;32m~\\AppData\\Local\\Packages\\PythonSoftwareFoundation.Python.3.11_qbz5n2kfra8p0\\LocalCache\\local-packages\\Python311\\site-packages\\sympy\\core\\expr.py:3623\u001b[0m, in \u001b[0;36mExpr._expand_hint\u001b[1;34m(expr, hint, deep, **hints)\u001b[0m\n\u001b[0;32m   3620\u001b[0m         expr \u001b[39m=\u001b[39m expr\u001b[39m.\u001b[39mfunc(\u001b[39m*\u001b[39msargs)\n\u001b[0;32m   3622\u001b[0m \u001b[39mif\u001b[39;00m \u001b[39mhasattr\u001b[39m(expr, hint):\n\u001b[1;32m-> 3623\u001b[0m     newexpr \u001b[39m=\u001b[39m \u001b[39mgetattr\u001b[39;49m(expr, hint)(\u001b[39m*\u001b[39;49m\u001b[39m*\u001b[39;49mhints)\n\u001b[0;32m   3624\u001b[0m     \u001b[39mif\u001b[39;00m newexpr \u001b[39m!=\u001b[39m expr:\n\u001b[0;32m   3625\u001b[0m         \u001b[39mreturn\u001b[39;00m (newexpr, \u001b[39mTrue\u001b[39;00m)\n",
      "File \u001b[1;32m~\\AppData\\Local\\Packages\\PythonSoftwareFoundation.Python.3.11_qbz5n2kfra8p0\\LocalCache\\local-packages\\Python311\\site-packages\\sympy\\core\\mul.py:922\u001b[0m, in \u001b[0;36mMul._eval_expand_mul\u001b[1;34m(self, **hints)\u001b[0m\n\u001b[0;32m    919\u001b[0m \u001b[39m# Handle things like 1/(x*(x + 1)), which are automatically converted\u001b[39;00m\n\u001b[0;32m    920\u001b[0m \u001b[39m# to 1/x*1/(x + 1)\u001b[39;00m\n\u001b[0;32m    921\u001b[0m expr \u001b[39m=\u001b[39m \u001b[39mself\u001b[39m\n\u001b[1;32m--> 922\u001b[0m n, d \u001b[39m=\u001b[39m fraction(expr)\n\u001b[0;32m    923\u001b[0m \u001b[39mif\u001b[39;00m d\u001b[39m.\u001b[39mis_Mul:\n\u001b[0;32m    924\u001b[0m     n, d \u001b[39m=\u001b[39m [i\u001b[39m.\u001b[39m_eval_expand_mul(\u001b[39m*\u001b[39m\u001b[39m*\u001b[39mhints) \u001b[39mif\u001b[39;00m i\u001b[39m.\u001b[39mis_Mul \u001b[39melse\u001b[39;00m i\n\u001b[0;32m    925\u001b[0m         \u001b[39mfor\u001b[39;00m i \u001b[39min\u001b[39;00m (n, d)]\n",
      "File \u001b[1;32m~\\AppData\\Local\\Packages\\PythonSoftwareFoundation.Python.3.11_qbz5n2kfra8p0\\LocalCache\\local-packages\\Python311\\site-packages\\sympy\\simplify\\radsimp.py:1131\u001b[0m, in \u001b[0;36mfraction\u001b[1;34m(expr, exact)\u001b[0m\n\u001b[0;32m   1129\u001b[0m     \u001b[39melse\u001b[39;00m:\n\u001b[0;32m   1130\u001b[0m         numer\u001b[39m.\u001b[39mappend(term)\n\u001b[1;32m-> 1131\u001b[0m \u001b[39mreturn\u001b[39;00m Mul(\u001b[39m*\u001b[39;49mnumer, evaluate\u001b[39m=\u001b[39;49m\u001b[39mnot\u001b[39;49;00m exact), Mul(\u001b[39m*\u001b[39mdenom, evaluate\u001b[39m=\u001b[39m\u001b[39mnot\u001b[39;00m exact)\n",
      "File \u001b[1;32m~\\AppData\\Local\\Packages\\PythonSoftwareFoundation.Python.3.11_qbz5n2kfra8p0\\LocalCache\\local-packages\\Python311\\site-packages\\sympy\\core\\cache.py:72\u001b[0m, in \u001b[0;36m__cacheit.<locals>.func_wrapper.<locals>.wrapper\u001b[1;34m(*args, **kwargs)\u001b[0m\n\u001b[0;32m     69\u001b[0m \u001b[39m@wraps\u001b[39m(func)\n\u001b[0;32m     70\u001b[0m \u001b[39mdef\u001b[39;00m \u001b[39mwrapper\u001b[39m(\u001b[39m*\u001b[39margs, \u001b[39m*\u001b[39m\u001b[39m*\u001b[39mkwargs):\n\u001b[0;32m     71\u001b[0m     \u001b[39mtry\u001b[39;00m:\n\u001b[1;32m---> 72\u001b[0m         retval \u001b[39m=\u001b[39m cfunc(\u001b[39m*\u001b[39;49margs, \u001b[39m*\u001b[39;49m\u001b[39m*\u001b[39;49mkwargs)\n\u001b[0;32m     73\u001b[0m     \u001b[39mexcept\u001b[39;00m \u001b[39mTypeError\u001b[39;00m \u001b[39mas\u001b[39;00m e:\n\u001b[0;32m     74\u001b[0m         \u001b[39mif\u001b[39;00m \u001b[39mnot\u001b[39;00m e\u001b[39m.\u001b[39margs \u001b[39mor\u001b[39;00m \u001b[39mnot\u001b[39;00m e\u001b[39m.\u001b[39margs[\u001b[39m0\u001b[39m]\u001b[39m.\u001b[39mstartswith(\u001b[39m'\u001b[39m\u001b[39munhashable type:\u001b[39m\u001b[39m'\u001b[39m):\n",
      "File \u001b[1;32m~\\AppData\\Local\\Packages\\PythonSoftwareFoundation.Python.3.11_qbz5n2kfra8p0\\LocalCache\\local-packages\\Python311\\site-packages\\sympy\\core\\operations.py:98\u001b[0m, in \u001b[0;36mAssocOp.__new__\u001b[1;34m(cls, evaluate, _sympify, *args)\u001b[0m\n\u001b[0;32m     95\u001b[0m \u001b[39mif\u001b[39;00m \u001b[39mlen\u001b[39m(args) \u001b[39m==\u001b[39m \u001b[39m1\u001b[39m:\n\u001b[0;32m     96\u001b[0m     \u001b[39mreturn\u001b[39;00m args[\u001b[39m0\u001b[39m]\n\u001b[1;32m---> 98\u001b[0m c_part, nc_part, order_symbols \u001b[39m=\u001b[39m \u001b[39mcls\u001b[39;49m\u001b[39m.\u001b[39;49mflatten(args)\n\u001b[0;32m     99\u001b[0m is_commutative \u001b[39m=\u001b[39m \u001b[39mnot\u001b[39;00m nc_part\n\u001b[0;32m    100\u001b[0m obj \u001b[39m=\u001b[39m \u001b[39mcls\u001b[39m\u001b[39m.\u001b[39m_from_args(c_part \u001b[39m+\u001b[39m nc_part, is_commutative)\n",
      "File \u001b[1;32m~\\AppData\\Local\\Packages\\PythonSoftwareFoundation.Python.3.11_qbz5n2kfra8p0\\LocalCache\\local-packages\\Python311\\site-packages\\sympy\\core\\mul.py:684\u001b[0m, in \u001b[0;36mMul.flatten\u001b[1;34m(cls, seq)\u001b[0m\n\u001b[0;32m    680\u001b[0m     nc_part \u001b[39m=\u001b[39m [c \u001b[39mfor\u001b[39;00m c \u001b[39min\u001b[39;00m nc_part \u001b[39mif\u001b[39;00m \u001b[39mnot\u001b[39;00m (fuzzy_not(c\u001b[39m.\u001b[39mis_zero) \u001b[39mand\u001b[39;00m\n\u001b[0;32m    681\u001b[0m                                           c\u001b[39m.\u001b[39mis_extended_real \u001b[39mis\u001b[39;00m \u001b[39mnot\u001b[39;00m \u001b[39mNone\u001b[39;00m)]\n\u001b[0;32m    683\u001b[0m \u001b[39m# 0\u001b[39;00m\n\u001b[1;32m--> 684\u001b[0m \u001b[39melif\u001b[39;00m coeff\u001b[39m.\u001b[39;49mis_zero:\n\u001b[0;32m    685\u001b[0m     \u001b[39m# we know for sure the result will be 0 except the multiplicand\u001b[39;00m\n\u001b[0;32m    686\u001b[0m     \u001b[39m# is infinity or a matrix\u001b[39;00m\n\u001b[0;32m    687\u001b[0m     \u001b[39mif\u001b[39;00m \u001b[39many\u001b[39m(\u001b[39misinstance\u001b[39m(c, MatrixExpr) \u001b[39mfor\u001b[39;00m c \u001b[39min\u001b[39;00m nc_part):\n\u001b[0;32m    688\u001b[0m         \u001b[39mreturn\u001b[39;00m [coeff], nc_part, order_symbols\n",
      "File \u001b[1;32m~\\AppData\\Local\\Packages\\PythonSoftwareFoundation.Python.3.11_qbz5n2kfra8p0\\LocalCache\\local-packages\\Python311\\site-packages\\sympy\\core\\assumptions.py:502\u001b[0m, in \u001b[0;36mmake_property.<locals>.getit\u001b[1;34m(self)\u001b[0m\n\u001b[0;32m    500\u001b[0m \u001b[39mexcept\u001b[39;00m \u001b[39mKeyError\u001b[39;00m:\n\u001b[0;32m    501\u001b[0m     \u001b[39mif\u001b[39;00m \u001b[39mself\u001b[39m\u001b[39m.\u001b[39m_assumptions \u001b[39mis\u001b[39;00m \u001b[39mself\u001b[39m\u001b[39m.\u001b[39mdefault_assumptions:\n\u001b[1;32m--> 502\u001b[0m         \u001b[39mself\u001b[39m\u001b[39m.\u001b[39m_assumptions \u001b[39m=\u001b[39m \u001b[39mself\u001b[39;49m\u001b[39m.\u001b[39;49mdefault_assumptions\u001b[39m.\u001b[39;49mcopy()\n\u001b[0;32m    503\u001b[0m     \u001b[39mreturn\u001b[39;00m _ask(fact, \u001b[39mself\u001b[39m)\n",
      "File \u001b[1;32m~\\AppData\\Local\\Packages\\PythonSoftwareFoundation.Python.3.11_qbz5n2kfra8p0\\LocalCache\\local-packages\\Python311\\site-packages\\sympy\\core\\assumptions.py:482\u001b[0m, in \u001b[0;36mStdFactKB.copy\u001b[1;34m(self)\u001b[0m\n\u001b[0;32m    481\u001b[0m \u001b[39mdef\u001b[39;00m \u001b[39mcopy\u001b[39m(\u001b[39mself\u001b[39m):\n\u001b[1;32m--> 482\u001b[0m     \u001b[39mreturn\u001b[39;00m \u001b[39mself\u001b[39;49m\u001b[39m.\u001b[39;49m\u001b[39m__class__\u001b[39;49m(\u001b[39mself\u001b[39;49m)\n",
      "File \u001b[1;32m~\\AppData\\Local\\Packages\\PythonSoftwareFoundation.Python.3.11_qbz5n2kfra8p0\\LocalCache\\local-packages\\Python311\\site-packages\\sympy\\core\\assumptions.py:479\u001b[0m, in \u001b[0;36mStdFactKB.__init__\u001b[1;34m(self, facts)\u001b[0m\n\u001b[0;32m    477\u001b[0m     \u001b[39mself\u001b[39m\u001b[39m.\u001b[39m_generator \u001b[39m=\u001b[39m facts\u001b[39m.\u001b[39mgenerator\n\u001b[0;32m    478\u001b[0m \u001b[39mif\u001b[39;00m facts:\n\u001b[1;32m--> 479\u001b[0m     \u001b[39mself\u001b[39;49m\u001b[39m.\u001b[39;49mdeduce_all_facts(facts)\n",
      "File \u001b[1;32m~\\AppData\\Local\\Packages\\PythonSoftwareFoundation.Python.3.11_qbz5n2kfra8p0\\LocalCache\\local-packages\\Python311\\site-packages\\sympy\\core\\facts.py:633\u001b[0m, in \u001b[0;36mFactKB.deduce_all_facts\u001b[1;34m(self, facts)\u001b[0m\n\u001b[0;32m    631\u001b[0m \u001b[39mfor\u001b[39;00m bidx \u001b[39min\u001b[39;00m beta_maytrigger:\n\u001b[0;32m    632\u001b[0m     bcond, bimpl \u001b[39m=\u001b[39m beta_rules[bidx]\n\u001b[1;32m--> 633\u001b[0m     \u001b[39mif\u001b[39;00m \u001b[39mall\u001b[39m(\u001b[39mself\u001b[39m\u001b[39m.\u001b[39mget(k) \u001b[39mis\u001b[39;00m v \u001b[39mfor\u001b[39;00m k, v \u001b[39min\u001b[39;00m bcond):\n\u001b[0;32m    634\u001b[0m         facts\u001b[39m.\u001b[39mappend(bimpl)\n",
      "File \u001b[1;32m~\\AppData\\Local\\Packages\\PythonSoftwareFoundation.Python.3.11_qbz5n2kfra8p0\\LocalCache\\local-packages\\Python311\\site-packages\\sympy\\core\\facts.py:633\u001b[0m, in \u001b[0;36m<genexpr>\u001b[1;34m(.0)\u001b[0m\n\u001b[0;32m    631\u001b[0m \u001b[39mfor\u001b[39;00m bidx \u001b[39min\u001b[39;00m beta_maytrigger:\n\u001b[0;32m    632\u001b[0m     bcond, bimpl \u001b[39m=\u001b[39m beta_rules[bidx]\n\u001b[1;32m--> 633\u001b[0m     \u001b[39mif\u001b[39;00m \u001b[39mall\u001b[39m(\u001b[39mself\u001b[39;49m\u001b[39m.\u001b[39;49mget(k) \u001b[39mis\u001b[39;00m v \u001b[39mfor\u001b[39;00m k, v \u001b[39min\u001b[39;00m bcond):\n\u001b[0;32m    634\u001b[0m         facts\u001b[39m.\u001b[39mappend(bimpl)\n",
      "\u001b[1;31mKeyboardInterrupt\u001b[0m: "
     ]
    }
   ],
   "source": [
    "sp.simplify(det_J)"
   ]
  },
  {
   "cell_type": "code",
   "execution_count": null,
   "metadata": {},
   "outputs": [],
   "source": []
  },
  {
   "cell_type": "code",
   "execution_count": null,
   "metadata": {},
   "outputs": [],
   "source": []
  },
  {
   "cell_type": "code",
   "execution_count": null,
   "metadata": {},
   "outputs": [],
   "source": []
  },
  {
   "cell_type": "code",
   "execution_count": null,
   "metadata": {},
   "outputs": [],
   "source": [
    "        "
   ]
  },
  {
   "cell_type": "code",
   "execution_count": null,
   "metadata": {},
   "outputs": [],
   "source": []
  },
  {
   "cell_type": "code",
   "execution_count": null,
   "metadata": {},
   "outputs": [],
   "source": []
  },
  {
   "cell_type": "code",
   "execution_count": 17,
   "metadata": {},
   "outputs": [
    {
     "data": {
      "text/latex": [
       "$\\displaystyle 0$"
      ],
      "text/plain": [
       "0"
      ]
     },
     "metadata": {},
     "output_type": "display_data"
    },
    {
     "data": {
      "text/latex": [
       "$\\displaystyle - 0.78 \\sin{\\left(q_{2} \\right)} \\sin{\\left(q_{3} \\right)} - 0.153 \\sin{\\left(q_{2} \\right)} \\sin{\\left(q_{6} \\right)} \\sin{\\left(q_{3} - q_{4} \\right)} \\cos{\\left(q_{5} \\right)} - 0.15 \\sin{\\left(q_{2} \\right)} \\sin{\\left(q_{3} - q_{4} \\right)} - 0.153 \\sin{\\left(q_{2} \\right)} \\cos{\\left(q_{6} \\right)} \\cos{\\left(q_{3} - q_{4} \\right)} - 0.86 \\sin{\\left(q_{2} \\right)} \\cos{\\left(q_{3} - q_{4} \\right)} - 0.16 \\sin{\\left(q_{2} \\right)} + 0.153 \\sin{\\left(q_{5} \\right)} \\sin{\\left(q_{6} \\right)} \\cos{\\left(q_{2} \\right)}$"
      ],
      "text/plain": [
       "-0.78*sin(q2)*sin(q3) - 0.153*sin(q2)*sin(q6)*sin(q3 - q4)*cos(q5) - 0.15*sin(q2)*sin(q3 - q4) - 0.153*sin(q2)*cos(q6)*cos(q3 - q4) - 0.86*sin(q2)*cos(q3 - q4) - 0.16*sin(q2) + 0.153*sin(q5)*sin(q6)*cos(q2)"
      ]
     },
     "metadata": {},
     "output_type": "display_data"
    },
    {
     "data": {
      "text/latex": [
       "$\\displaystyle 0.153 \\sin{\\left(q_{6} \\right)} \\cos{\\left(q_{2} \\right)} \\cos{\\left(q_{5} \\right)} \\cos{\\left(q_{3} - q_{4} \\right)} - 0.153 \\sin{\\left(q_{3} - q_{4} \\right)} \\cos{\\left(q_{2} \\right)} \\cos{\\left(q_{6} \\right)} - 0.86 \\sin{\\left(q_{3} - q_{4} \\right)} \\cos{\\left(q_{2} \\right)} + 0.78 \\cos{\\left(q_{2} \\right)} \\cos{\\left(q_{3} \\right)} + 0.15 \\cos{\\left(q_{2} \\right)} \\cos{\\left(q_{3} - q_{4} \\right)}$"
      ],
      "text/plain": [
       "0.153*sin(q6)*cos(q2)*cos(q5)*cos(q3 - q4) - 0.153*sin(q3 - q4)*cos(q2)*cos(q6) - 0.86*sin(q3 - q4)*cos(q2) + 0.78*cos(q2)*cos(q3) + 0.15*cos(q2)*cos(q3 - q4)"
      ]
     },
     "metadata": {},
     "output_type": "display_data"
    },
    {
     "data": {
      "text/latex": [
       "$\\displaystyle - 0.153 \\sin{\\left(q_{6} \\right)} \\cos{\\left(q_{2} \\right)} \\cos{\\left(q_{5} \\right)} \\cos{\\left(q_{3} - q_{4} \\right)} + 0.153 \\sin{\\left(q_{3} - q_{4} \\right)} \\cos{\\left(q_{2} \\right)} \\cos{\\left(q_{6} \\right)} + 0.86 \\sin{\\left(q_{3} - q_{4} \\right)} \\cos{\\left(q_{2} \\right)} - 0.15 \\cos{\\left(q_{2} \\right)} \\cos{\\left(q_{3} - q_{4} \\right)}$"
      ],
      "text/plain": [
       "-0.153*sin(q6)*cos(q2)*cos(q5)*cos(q3 - q4) + 0.153*sin(q3 - q4)*cos(q2)*cos(q6) + 0.86*sin(q3 - q4)*cos(q2) - 0.15*cos(q2)*cos(q3 - q4)"
      ]
     },
     "metadata": {},
     "output_type": "display_data"
    },
    {
     "data": {
      "text/latex": [
       "$\\displaystyle 0.153 \\sin{\\left(q_{2} \\right)} \\sin{\\left(q_{6} \\right)} \\cos{\\left(q_{5} \\right)} - 0.153 \\sin{\\left(q_{5} \\right)} \\sin{\\left(q_{6} \\right)} \\sin{\\left(q_{3} - q_{4} \\right)} \\cos{\\left(q_{2} \\right)}$"
      ],
      "text/plain": [
       "0.153*sin(q2)*sin(q6)*cos(q5) - 0.153*sin(q5)*sin(q6)*sin(q3 - q4)*cos(q2)"
      ]
     },
     "metadata": {},
     "output_type": "display_data"
    },
    {
     "data": {
      "text/latex": [
       "$\\displaystyle 0.153 \\sin{\\left(q_{2} \\right)} \\sin{\\left(q_{5} \\right)} \\cos{\\left(q_{6} \\right)} - 0.153 \\sin{\\left(q_{6} \\right)} \\cos{\\left(q_{2} \\right)} \\cos{\\left(q_{3} - q_{4} \\right)} + 0.153 \\sin{\\left(q_{3} - q_{4} \\right)} \\cos{\\left(q_{2} \\right)} \\cos{\\left(q_{5} \\right)} \\cos{\\left(q_{6} \\right)}$"
      ],
      "text/plain": [
       "0.153*sin(q2)*sin(q5)*cos(q6) - 0.153*sin(q6)*cos(q2)*cos(q3 - q4) + 0.153*sin(q3 - q4)*cos(q2)*cos(q5)*cos(q6)"
      ]
     },
     "metadata": {},
     "output_type": "display_data"
    },
    {
     "data": {
      "text/latex": [
       "$\\displaystyle 0$"
      ],
      "text/plain": [
       "0"
      ]
     },
     "metadata": {},
     "output_type": "display_data"
    }
   ],
   "source": [
    "display(dx_q1)\n",
    "display(dx_q2)\n",
    "display(dx_q3)\n",
    "display(dx_q4)\n",
    "display(dx_q5)\n",
    "display(dx_q6)\n",
    "display(dx_q7)"
   ]
  },
  {
   "cell_type": "code",
   "execution_count": 42,
   "metadata": {},
   "outputs": [
    {
     "data": {
      "text/latex": [
       "$\\displaystyle 1.0 \\left(\\left(\\left(1.0 \\sin{\\left(q_{3} - q_{4} \\right)} + 6.07710050650619 \\cdot 10^{-11} \\cos{\\left(q_{3} - q_{4} \\right)}\\right) \\cos{\\left(q_{2} \\right)} \\cos{\\left(q_{5} \\right)} + \\sin{\\left(q_{2} \\right)} \\sin{\\left(q_{5} \\right)}\\right) \\cos{\\left(q_{6} \\right)} - \\left(- 6.07710050650619 \\cdot 10^{-11} \\sin{\\left(q_{3} - q_{4} \\right)} + 1.0 \\cos{\\left(q_{3} - q_{4} \\right)}\\right) \\sin{\\left(q_{6} \\right)} \\cos{\\left(q_{2} \\right)}\\right) \\cos{\\left(q_{7} - 1.57079632673413 \\right)} + 1.0 \\left(\\left(1.0 \\sin{\\left(q_{3} - q_{4} \\right)} + 6.07710050650619 \\cdot 10^{-11} \\cos{\\left(q_{3} - q_{4} \\right)}\\right) \\sin{\\left(q_{5} \\right)} \\cos{\\left(q_{2} \\right)} - \\sin{\\left(q_{2} \\right)} \\cos{\\left(q_{5} \\right)}\\right) \\sin{\\left(q_{7} - 1.57079632673413 \\right)}$"
      ],
      "text/plain": [
       "1.0*(((1.0*sin(q3 - q4) + 6.07710050650619e-11*cos(q3 - q4))*cos(q2)*cos(q5) + sin(q2)*sin(q5))*cos(q6) - (-6.07710050650619e-11*sin(q3 - q4) + 1.0*cos(q3 - q4))*sin(q6)*cos(q2))*cos(q7 - 1.57079632673413) + 1.0*((1.0*sin(q3 - q4) + 6.07710050650619e-11*cos(q3 - q4))*sin(q5)*cos(q2) - sin(q2)*cos(q5))*sin(q7 - 1.57079632673413)"
      ]
     },
     "execution_count": 42,
     "metadata": {},
     "output_type": "execute_result"
    }
   ],
   "source": [
    "cos = sp.cos\n",
    "sin = sp.sin\n",
    "a = cos(q7 - 1.570796326734125614166259765625)*(1.0*cos(q6)*(1.0*sin(q2)*sin(q5) + cos(q5)*(1.0*cos(q3 - 1.570796326734125614166259765625)*cos(q2)*cos(q4) + 1.0*sin(q3 - 1.570796326734125614166259765625)*cos(q2)*sin(q4))) - 1.0*sin(q6)*(1.0*cos(q3 - 1.570796326734125614166259765625)*cos(q2)*sin(q4) - 1.0*sin(q3 - 1.570796326734125614166259765625)*cos(q2)*cos(q4))) - sin(q7 - 1.570796326734125614166259765625)*(1.0*cos(q5)*sin(q2) - 1.0*sin(q5)*(1.0*cos(q3 - 1.570796326734125614166259765625)*cos(q2)*cos(q4) + 1.0*sin(q3 - 1.570796326734125614166259765625)*cos(q2)*sin(q4)))\n",
    "sp.simplify(a)"
   ]
  },
  {
   "cell_type": "code",
   "execution_count": 40,
   "metadata": {},
   "outputs": [
    {
     "data": {
      "text/latex": [
       "$\\displaystyle \\left(\\left(\\sin{\\left(q_{2} \\right)} \\sin{\\left(q_{5} \\right)} + \\sin{\\left(q_{3} - q_{4} \\right)} \\cos{\\left(q_{2} \\right)} \\cos{\\left(q_{5} \\right)}\\right) \\cos{\\left(q_{6} \\right)} - \\sin{\\left(q_{6} \\right)} \\cos{\\left(q_{2} \\right)} \\cos{\\left(q_{3} - q_{4} \\right)}\\right) \\sin{\\left(q_{7} \\right)} + \\left(\\sin{\\left(q_{2} \\right)} \\cos{\\left(q_{5} \\right)} - \\sin{\\left(q_{5} \\right)} \\sin{\\left(q_{3} - q_{4} \\right)} \\cos{\\left(q_{2} \\right)}\\right) \\cos{\\left(q_{7} \\right)}$"
      ],
      "text/plain": [
       "((sin(q2)*sin(q5) + sin(q3 - q4)*cos(q2)*cos(q5))*cos(q6) - sin(q6)*cos(q2)*cos(q3 - q4))*sin(q7) + (sin(q2)*cos(q5) - sin(q5)*sin(q3 - q4)*cos(q2))*cos(q7)"
      ]
     },
     "execution_count": 40,
     "metadata": {},
     "output_type": "execute_result"
    }
   ],
   "source": [
    "sp.simplify(T[0,0])\n"
   ]
  }
 ],
 "metadata": {
  "kernelspec": {
   "display_name": "Python 3",
   "language": "python",
   "name": "python3"
  },
  "language_info": {
   "codemirror_mode": {
    "name": "ipython",
    "version": 3
   },
   "file_extension": ".py",
   "mimetype": "text/x-python",
   "name": "python",
   "nbconvert_exporter": "python",
   "pygments_lexer": "ipython3",
   "version": "3.11.6"
  }
 },
 "nbformat": 4,
 "nbformat_minor": 2
}
